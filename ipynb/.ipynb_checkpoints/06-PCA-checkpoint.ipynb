{
 "cells": [
  {
   "cell_type": "markdown",
   "metadata": {},
   "source": [
    "## PCA\n",
    "\n",
    "#### Features chosen for PCA\n",
    "\n",
    "**Numerical:**\n",
    "\n",
    "- GrLivArea\n",
    "- FirstFlrSF\n",
    "- YearBuilt\n",
    "- YearRemodAdd\n",
    "- GarageYeBuilt\n",
    "\n",
    "**Categorical**\n",
    " \n",
    "- Utilities\n",
    "- Street\n",
    "- Condition2 (Proximity to various conditions)\n",
    "- RoofMatl\n",
    "- Heating\n"
   ]
  },
  {
   "cell_type": "code",
   "execution_count": 17,
   "metadata": {},
   "outputs": [],
   "source": [
    "import matplotlib.pyplot as plt\n",
    "import seaborn as sns\n",
    "\n",
    "%matplotlib inline"
   ]
  },
  {
   "cell_type": "code",
   "execution_count": 2,
   "metadata": {},
   "outputs": [
    {
     "name": "stdout",
     "output_type": "stream",
     "text": [
      "/home/jovyan/CSX_450_2_Final_Exam\n"
     ]
    }
   ],
   "source": [
    "cd .."
   ]
  },
  {
   "cell_type": "code",
   "execution_count": 9,
   "metadata": {},
   "outputs": [],
   "source": [
    "%run src/load_data.py"
   ]
  },
  {
   "cell_type": "code",
   "execution_count": 10,
   "metadata": {},
   "outputs": [
    {
     "name": "stdout",
     "output_type": "stream",
     "text": [
      "Variable                         Type         Data/Info\n",
      "-------------------------------------------------------\n",
      "categorical_features             DataFrame         Utilities Street Con<...>\\n[1460 rows x 5 columns]\n",
      "categorical_ouliers_removed_df   DataFrame         Utilities Street Con<...>\\n[1447 rows x 5 columns]\n",
      "housing_df                       DataFrame          MSSubClass MSZoning<...>n[1460 rows x 80 columns]\n",
      "listing_df                       DataFrame            Id Street Alley  <...>n[1460 rows x 62 columns]\n",
      "numeric_final_df                 DataFrame          GrLivArea  FirstFlr<...>\\n[1366 rows x 5 columns]\n",
      "numeric_log_df                   DataFrame          GrLivArea  FirstFlr<...>\\n[1379 rows x 5 columns]\n",
      "numeric_log_sc_df                DataFrame          GrLivArea  FirstFlr<...>\\n[1379 rows x 5 columns]\n",
      "numeric_sc_df                    DataFrame          GrLivArea  FirstFlr<...>\\n[1379 rows x 5 columns]\n",
      "numerical_features               DataFrame          GrLivArea  FirstFlr<...>\\n[1379 rows x 5 columns]\n",
      "sale_df                          DataFrame            Id  MoSold  YrSol<...>\\n[1460 rows x 6 columns]\n",
      "zoning_df                        DataFrame            Id  MSSubClass MS<...>n[1460 rows x 15 columns]\n"
     ]
    }
   ],
   "source": [
    "whos DataFrame"
   ]
  },
  {
   "cell_type": "code",
   "execution_count": 11,
   "metadata": {},
   "outputs": [
    {
     "data": {
      "text/plain": [
       "PCA(copy=True, iterated_power='auto', n_components=None, random_state=None,\n",
       "  svd_solver='auto', tol=0.0, whiten=False)"
      ]
     },
     "execution_count": 11,
     "metadata": {},
     "output_type": "execute_result"
    }
   ],
   "source": [
    "from sklearn.decomposition import PCA\n",
    "pca = PCA()\n",
    "pca.fit(numeric_final_df)"
   ]
  },
  {
   "cell_type": "code",
   "execution_count": 12,
   "metadata": {
    "scrolled": true
   },
   "outputs": [
    {
     "data": {
      "text/plain": [
       "[<matplotlib.lines.Line2D at 0x7f32e733dbe0>]"
      ]
     },
     "execution_count": 12,
     "metadata": {},
     "output_type": "execute_result"
    },
    {
     "data": {
      "image/png": "[encoded data removed]",
      "text/plain": [
       "<matplotlib.figure.Figure at 0x7f32ec92c550>"
      ]
     },
     "metadata": {},
     "output_type": "display_data"
    }
   ],
   "source": [
    "plt.plot(pca.explained_variance_ratio_)"
   ]
  },
  {
   "cell_type": "markdown",
   "metadata": {},
   "source": [
    "#### The line plot shows that the explained variance is highest/steepest for the first 2 components/combinations of features."
   ]
  },
  {
   "cell_type": "code",
   "execution_count": 13,
   "metadata": {},
   "outputs": [
    {
     "data": {
      "text/plain": [
       "PCA(copy=True, iterated_power='auto', n_components=4, random_state=None,\n",
       "  svd_solver='auto', tol=0.0, whiten=False)"
      ]
     },
     "execution_count": 13,
     "metadata": {},
     "output_type": "execute_result"
    }
   ],
   "source": [
    "pca = PCA(4)\n",
    "pca.fit(numeric_final_df)"
   ]
  },
  {
   "cell_type": "code",
   "execution_count": 19,
   "metadata": {},
   "outputs": [],
   "source": [
    "import lib.viz_helper as viz"
   ]
  },
  {
   "cell_type": "code",
   "execution_count": 20,
   "metadata": {},
   "outputs": [
    {
     "data": {
      "image/png": "[encoded data removed]",
      "text/plain": [
       "<matplotlib.figure.Figure at 0x7f32e7313eb8>"
      ]
     },
     "metadata": {},
     "output_type": "display_data"
    }
   ],
   "source": [
    "pca_df = viz.pca_results(numeric_final_df, pca)"
   ]
  },
  {
   "cell_type": "markdown",
   "metadata": {},
   "source": [
    "#### Together Dimension 1 and Dimension 2 account for almost 78% of explained variance.\n",
    "\n",
    "#### Dimension 1 (accounts for 55% of the total explained variance).\n",
    "\n",
    "    - Year house/garage was built/remodeled seems to be what this dimension is about, as Year Build, Year Remodeled and Year Garage Build seems to be dominating this dimension.\n",
    "\n",
    "####  Dimension 2 (accounts for 22.7% of the total explained variance).\n",
    "\n",
    "    -  This Dimension seems to be about the sq. ft. of the house, as GrLivArea and FirstFlrSF are the dominating features in tis dimension.\n",
    "    "
   ]
  },
  {
   "cell_type": "code",
   "execution_count": 21,
   "metadata": {},
   "outputs": [],
   "source": [
    "numeric_pca = pca.transform(numeric_final_df)"
   ]
  },
  {
   "cell_type": "code",
   "execution_count": 22,
   "metadata": {},
   "outputs": [],
   "source": [
    "numeric_pca_df = pd.DataFrame(numeric_pca)"
   ]
  },
  {
   "cell_type": "code",
   "execution_count": null,
   "metadata": {},
   "outputs": [],
   "source": []
  },
  {
   "cell_type": "code",
   "execution_count": null,
   "metadata": {},
   "outputs": [],
   "source": []
  }
 ],
 "metadata": {
  "kernelspec": {
   "display_name": "Python 3",
   "language": "python",
   "name": "python3"
  },
  "language_info": {
   "codemirror_mode": {
    "name": "ipython",
    "version": 3
   },
   "file_extension": ".py",
   "mimetype": "text/x-python",
   "name": "python",
   "nbconvert_exporter": "python",
   "pygments_lexer": "ipython3",
   "version": "3.6.4"
  }
 },
 "nbformat": 4,
 "nbformat_minor": 2
}
