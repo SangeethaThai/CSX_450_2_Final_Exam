{
 "cells": [
  {
   "cell_type": "markdown",
   "metadata": {},
   "source": [
    "## PCA\n",
    "\n",
    "#### Features chosen for PCA\n",
    "\n",
    "**Numerical:**\n",
    "\n",
    "- GrLivArea\n",
    "- FirstFlrSF\n",
    "- YearBuilt\n",
    "- YearRemodAdd\n",
    "- GarageYeBuilt\n",
    "\n",
    "**Categorical**\n",
    " \n",
    "- Utilities=AllPub\n",
    "- Street=Pave\n",
    "- Condition2=Norm (Proximity to various conditions)\n",
    "- RoofMatl=CompShg\n",
    "- Heating=GasA\n"
   ]
  },
  {
   "cell_type": "code",
   "execution_count": 1,
   "metadata": {},
   "outputs": [
    {
     "name": "stdout",
     "output_type": "stream",
     "text": [
      "/home/jovyan/CSX_450_2_Final_Exam\n"
     ]
    }
   ],
   "source": [
    "cd .."
   ]
  },
  {
   "cell_type": "code",
   "execution_count": 2,
   "metadata": {},
   "outputs": [],
   "source": [
    "import matplotlib.pyplot as plt\n",
    "import seaborn as sns\n",
    "from sklearn.decomposition import PCA\n",
    "import lib.viz_helper as viz\n",
    "\n",
    "%matplotlib inline"
   ]
  },
  {
   "cell_type": "code",
   "execution_count": 20,
   "metadata": {},
   "outputs": [
    {
     "data": {
      "text/plain": [
       "<matplotlib.figure.Figure at 0x7fc5226d8828>"
      ]
     },
     "metadata": {},
     "output_type": "display_data"
    }
   ],
   "source": [
    "%run src/load_data.py"
   ]
  },
  {
   "cell_type": "code",
   "execution_count": 21,
   "metadata": {},
   "outputs": [
    {
     "name": "stdout",
     "output_type": "stream",
     "text": [
      "Variable                         Type         Data/Info\n",
      "-------------------------------------------------------\n",
      "categorical_features             DataFrame         Utilities Street Con<...>\\n[1460 rows x 5 columns]\n",
      "categorical_ouliers_removed_df   DataFrame         Utilities Street Con<...>\\n[1447 rows x 5 columns]\n",
      "housing_df                       DataFrame          MSSubClass MSZoning<...>n[1460 rows x 80 columns]\n",
      "listing_df                       DataFrame            Id Street Alley  <...>n[1460 rows x 62 columns]\n",
      "num_cat_log_sc_df                DataFrame          GrLivArea  FirstFlr<...>n[1379 rows x 10 columns]\n",
      "num_cat_pca_df                   DataFrame                 0         1 <...>\\n[1379 rows x 4 columns]\n",
      "numeric_final_df                 DataFrame          GrLivArea  FirstFlr<...>\\n[1366 rows x 5 columns]\n",
      "numeric_log_df                   DataFrame          GrLivArea  FirstFlr<...>\\n[1379 rows x 5 columns]\n",
      "numeric_log_sc_df                DataFrame          GrLivArea  FirstFlr<...>\\n[1379 rows x 5 columns]\n",
      "numeric_pca_df                   DataFrame                 0         1 <...>\\n[1379 rows x 4 columns]\n",
      "numeric_sc_df                    DataFrame          GrLivArea  FirstFlr<...>\\n[1379 rows x 5 columns]\n",
      "numerical_features               DataFrame          GrLivArea  FirstFlr<...>\\n[1379 rows x 5 columns]\n",
      "one_hot_encoded_features         DataFrame          Utilities_AllPub  U<...>n[1460 rows x 26 columns]\n",
      "pca_df                           DataFrame                 Explained Va<...>  -0.0009        0.0045  \n",
      "sale_df                          DataFrame            Id  MoSold  YrSol<...>\\n[1460 rows x 6 columns]\n",
      "zoning_df                        DataFrame            Id  MSSubClass MS<...>n[1460 rows x 15 columns]\n"
     ]
    }
   ],
   "source": [
    "whos DataFrame"
   ]
  },
  {
   "cell_type": "code",
   "execution_count": 22,
   "metadata": {},
   "outputs": [],
   "source": [
    "num_cat_log_sc_df = numeric_log_sc_df\n",
    "\n",
    "one_hot_encoded_features = pd.get_dummies(categorical_features)\n",
    "num_cat_log_sc_df[\"Utilities_AllPub\"] = one_hot_encoded_features.Utilities_AllPub\n",
    "num_cat_log_sc_df[\"Street_Pave\"] = one_hot_encoded_features.Street_Pave\n",
    "num_cat_log_sc_df[\"Condition2_Norm \"] = one_hot_encoded_features.Condition2_Norm\n",
    "num_cat_log_sc_df[\"RoofMatl_CompShg\"] = one_hot_encoded_features.RoofMatl_CompShg\n",
    "num_cat_log_sc_df[\"Heating_GasA\"] = one_hot_encoded_features.Heating_GasA"
   ]
  },
  {
   "cell_type": "code",
   "execution_count": 23,
   "metadata": {},
   "outputs": [
    {
     "data": {
      "text/plain": [
       "PCA(copy=True, iterated_power='auto', n_components=None, random_state=None,\n",
       "  svd_solver='auto', tol=0.0, whiten=False)"
      ]
     },
     "execution_count": 23,
     "metadata": {},
     "output_type": "execute_result"
    }
   ],
   "source": [
    "pca = PCA()\n",
    "pca.fit(num_cat_log_sc_df)"
   ]
  },
  {
   "cell_type": "code",
   "execution_count": 24,
   "metadata": {
    "scrolled": true
   },
   "outputs": [
    {
     "data": {
      "text/plain": [
       "[<matplotlib.lines.Line2D at 0x7fc52265d3c8>]"
      ]
     },
     "execution_count": 24,
     "metadata": {},
     "output_type": "execute_result"
    },
    {
     "data": {
      "image/png": "[encoded data removed]",
      "text/plain": [
       "<matplotlib.figure.Figure at 0x7fc5226d8160>"
      ]
     },
     "metadata": {},
     "output_type": "display_data"
    }
   ],
   "source": [
    "plt.plot(pca.explained_variance_ratio_)"
   ]
  },
  {
   "cell_type": "markdown",
   "metadata": {},
   "source": [
    "#### The line plot shows that the explained variance is highest/steepest for the first 2 components/combinations of features."
   ]
  },
  {
   "cell_type": "code",
   "execution_count": 25,
   "metadata": {},
   "outputs": [
    {
     "data": {
      "text/plain": [
       "PCA(copy=True, iterated_power='auto', n_components=4, random_state=None,\n",
       "  svd_solver='auto', tol=0.0, whiten=False)"
      ]
     },
     "execution_count": 25,
     "metadata": {},
     "output_type": "execute_result"
    }
   ],
   "source": [
    "pca = PCA(4)\n",
    "pca.fit(num_cat_log_sc_df)"
   ]
  },
  {
   "cell_type": "code",
   "execution_count": 26,
   "metadata": {},
   "outputs": [
    {
     "data": {
      "image/png": "[encoded data removed]",
      "text/plain": [
       "<matplotlib.figure.Figure at 0x7fc5226ac828>"
      ]
     },
     "metadata": {},
     "output_type": "display_data"
    }
   ],
   "source": [
    "pca_df = viz.pca_results(num_cat_log_sc_df, pca)"
   ]
  },
  {
   "cell_type": "markdown",
   "metadata": {},
   "source": [
    "#### Together Dimension 1 and Dimension 2 account for almost 78% of explained variance.\n",
    "\n",
    "#### Dimension 1 (accounts for 55% of the total explained variance).\n",
    "\n",
    "    - Year house/garage was built/remodeled seems to be what this dimension is about, as Year Build, Year Remodeled and Year Garage Build seems to be dominating this dimension.\n",
    "\n",
    "####  Dimension 2 (accounts for 22.7% of the total explained variance).\n",
    "\n",
    "    -  This Dimension seems to be about the sq. ft. of the house, as GrLivArea and FirstFlrSF are the dominating features in tis dimension.\n",
    "    "
   ]
  },
  {
   "cell_type": "code",
   "execution_count": 27,
   "metadata": {},
   "outputs": [],
   "source": [
    "num_cat_pca = pca.transform(num_cat_log_sc_df)"
   ]
  },
  {
   "cell_type": "code",
   "execution_count": 28,
   "metadata": {},
   "outputs": [],
   "source": [
    "num_cat_pca_df = pd.DataFrame(num_cat_pca)"
   ]
  }
 ],
 "metadata": {
  "kernelspec": {
   "display_name": "Python 3",
   "language": "python",
   "name": "python3"
  },
  "language_info": {
   "codemirror_mode": {
    "name": "ipython",
    "version": 3
   },
   "file_extension": ".py",
   "mimetype": "text/x-python",
   "name": "python",
   "nbconvert_exporter": "python",
   "pygments_lexer": "ipython3",
   "version": "3.6.4"
  }
 },
 "nbformat": 4,
 "nbformat_minor": 2
}
