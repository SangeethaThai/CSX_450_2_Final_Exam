{
 "cells": [
  {
   "cell_type": "markdown",
   "metadata": {},
   "source": [
    "## Cluster Model\n",
    "\n",
    "#### Features chosen for PCA\n",
    "\n",
    "**Numerical:**\n",
    "\n",
    "- GrLivArea\n",
    "- FirstFlrSF\n",
    "- YearBuilt\n",
    "- YearRemodAdd\n",
    "- GarageYeBuilt\n",
    "\n",
    "**Categorical**\n",
    " \n",
    "- Utilities\n",
    "- Street\n",
    "- Condition2 (Proximity to various conditions)\n",
    "- RoofMatl\n",
    "- Heating\n"
   ]
  },
  {
   "cell_type": "code",
   "execution_count": null,
   "metadata": {},
   "outputs": [],
   "source": [
    "from sklearn.datasets import load_iris\n",
    "import matplotlib.pyplot as plt\n",
    "import numpy as np\n",
    "import pandas as pd\n",
    "import seaborn as sns"
   ]
  },
  {
   "cell_type": "code",
   "execution_count": null,
   "metadata": {},
   "outputs": [],
   "source": [
    "!pip install tqdm"
   ]
  },
  {
   "cell_type": "code",
   "execution_count": null,
   "metadata": {
    "scrolled": true
   },
   "outputs": [],
   "source": [
    "cd .."
   ]
  },
  {
   "cell_type": "code",
   "execution_count": null,
   "metadata": {
    "scrolled": true
   },
   "outputs": [],
   "source": [
    "import lib.visuals as vs"
   ]
  },
  {
   "cell_type": "code",
   "execution_count": null,
   "metadata": {},
   "outputs": [],
   "source": [
    "IRIS = load_iris()"
   ]
  },
  {
   "cell_type": "code",
   "execution_count": null,
   "metadata": {},
   "outputs": [],
   "source": [
    "names = [(name\n",
    "  .replace(\" \", \"\")\n",
    "  .replace(\"(cm)\", \"\")) for name in IRIS.feature_names]"
   ]
  },
  {
   "cell_type": "code",
   "execution_count": null,
   "metadata": {},
   "outputs": [],
   "source": [
    "np.random.seed(42)"
   ]
  },
  {
   "cell_type": "code",
   "execution_count": null,
   "metadata": {},
   "outputs": [],
   "source": [
    "df_original = pd.DataFrame(IRIS.data)\n",
    "df_original.columns = names\n",
    "df_original['label'] = IRIS.target\n",
    "df_original.label = df_original.label.astype('category')\n",
    "df_original = pd.get_dummies(df_original)\n",
    "df_original = df_original.sample(frac=1)"
   ]
  },
  {
   "cell_type": "code",
   "execution_count": null,
   "metadata": {},
   "outputs": [],
   "source": [
    "df_original.head()"
   ]
  },
  {
   "cell_type": "code",
   "execution_count": null,
   "metadata": {},
   "outputs": [],
   "source": [
    "def apply_scale(dataframe, scaling_function):\n",
    "    numerical_df = dataframe.select_dtypes(include=[float])\n",
    "    print(numerical_df.columns)\n",
    "    numerical_df = scaling_function(numerical_df)\n",
    "    tmp_df = dataframe.copy()\n",
    "    tmp_df[numerical_df.columns] = numerical_df\n",
    "    return tmp_df\n",
    "\n",
    "def gelman_scale(dataframe):\n",
    "    return (dataframe - dataframe.mean())/(2*dataframe.std())\n",
    "\n",
    "def standard_scale(dataframe):\n",
    "    return (dataframe - dataframe.mean())/(dataframe.std())\n",
    "\n",
    "df_gelman = apply_scale(df_original, gelman_scale)\n",
    "df_standard = apply_scale(df_original, standard_scale)"
   ]
  },
  {
   "cell_type": "code",
   "execution_count": null,
   "metadata": {},
   "outputs": [],
   "source": [
    "fig = plt.figure(figsize=(20,9))\n",
    "for i, col in enumerate(df_original.columns):\n",
    "    fig.add_subplot(3,7,1+i)\n",
    "    sns.distplot(df_original[col])\n",
    "    plt.xlim(-3,3)\n",
    "    fig.add_subplot(3,7,8+i)\n",
    "    sns.distplot(df_gelman[col])\n",
    "    plt.xlim(-3,3)\n",
    "    fig.add_subplot(3,7,15+i)\n",
    "    sns.distplot(df_standard[col])\n",
    "    plt.xlim(-3,3)"
   ]
  },
  {
   "cell_type": "code",
   "execution_count": null,
   "metadata": {},
   "outputs": [],
   "source": [
    "from sklearn.decomposition import PCA"
   ]
  },
  {
   "cell_type": "code",
   "execution_count": null,
   "metadata": {},
   "outputs": [],
   "source": [
    "pca_original = PCA()\n",
    "pca_gelman = PCA()\n",
    "pca_standard = PCA()\n",
    "pca_original.fit(df_original)\n",
    "pca_gelman.fit(df_gelman)\n",
    "pca_standard.fit(df_standard)"
   ]
  },
  {
   "cell_type": "code",
   "execution_count": null,
   "metadata": {},
   "outputs": [],
   "source": [
    "original_loading_plot = vs.FeatureLoadingsPlot(df_original, pca_original,7)\n",
    "original_loading_plot.display_segments()"
   ]
  },
  {
   "cell_type": "code",
   "execution_count": null,
   "metadata": {},
   "outputs": [],
   "source": [
    "gelman_loading_plot = vs.FeatureLoadingsPlot(df_gelman, pca_gelman,7)\n",
    "gelman_loading_plot.display_segments()"
   ]
  },
  {
   "cell_type": "code",
   "execution_count": null,
   "metadata": {},
   "outputs": [],
   "source": [
    "standard_loading_plot = vs.FeatureLoadingsPlot(df_standard, pca_standard,7)\n",
    "standard_loading_plot.display_segments()"
   ]
  },
  {
   "cell_type": "code",
   "execution_count": null,
   "metadata": {},
   "outputs": [],
   "source": [
    "df_original_numerical = df_original.select_dtypes([float])\n",
    "df_gelman_numerical = df_gelman.select_dtypes([float])\n",
    "df_standard_numerical = df_standard.select_dtypes([float])"
   ]
  },
  {
   "cell_type": "code",
   "execution_count": null,
   "metadata": {},
   "outputs": [],
   "source": [
    "pca_original_numerical = PCA()\n",
    "pca_gelman_numerical = PCA()\n",
    "pca_standard_numerical = PCA()"
   ]
  },
  {
   "cell_type": "code",
   "execution_count": null,
   "metadata": {},
   "outputs": [],
   "source": [
    "pca_original_numerical.fit(df_original_numerical)\n",
    "pca_gelman_numerical.fit(df_gelman_numerical)\n",
    "pca_standard_numerical.fit(df_standard_numerical)"
   ]
  },
  {
   "cell_type": "code",
   "execution_count": null,
   "metadata": {},
   "outputs": [],
   "source": [
    "original_numerical_loadings = vs.FeatureLoadingsPlot(df_original_numerical, pca_original_numerical,4)\n",
    "original_numerical_loadings.display_segments()"
   ]
  },
  {
   "cell_type": "code",
   "execution_count": null,
   "metadata": {},
   "outputs": [],
   "source": [
    "gelman_numerical_loadings = vs.FeatureLoadingsPlot(df_gelman_numerical, pca_gelman_numerical,4)\n",
    "gelman_numerical_loadings.display_segments()"
   ]
  },
  {
   "cell_type": "code",
   "execution_count": null,
   "metadata": {},
   "outputs": [],
   "source": [
    "standard_numerical_loadings = vs.FeatureLoadingsPlot(df_standard_numerical, pca_standard_numerical,4)\n",
    "standard_numerical_loadings.display_segments()"
   ]
  },
  {
   "cell_type": "code",
   "execution_count": null,
   "metadata": {},
   "outputs": [],
   "source": [
    "whos DataFrame"
   ]
  },
  {
   "cell_type": "code",
   "execution_count": null,
   "metadata": {},
   "outputs": [],
   "source": [
    "whos PCA"
   ]
  },
  {
   "cell_type": "code",
   "execution_count": null,
   "metadata": {},
   "outputs": [],
   "source": [
    "dims_4 = ['Dimension 1', 'Dimension 2', 'Dimension 3', 'Dimension 4']\n",
    "dims_7 = dims_4 + ['Dimension 5', 'Dimension 6', 'Dimension 7']\n",
    "df_original_pca = pd.DataFrame(pca_original.transform(df_original))\n",
    "df_original_pca.columns = dims_7\n",
    "df_original_numerical_pca = pd.DataFrame(pca_original_numerical.transform(df_original_numerical))\n",
    "df_original_numerical_pca.columns = dims_4\n",
    "df_gelman_pca = pd.DataFrame(pca_gelman.transform(df_gelman))\n",
    "df_gelman_pca.columns = dims_7\n",
    "df_gelman_numerical_pca = pd.DataFrame(pca_gelman_numerical.transform(df_gelman_numerical))\n",
    "df_gelman_numerical_pca.columns = dims_4\n",
    "df_standard_pca = pd.DataFrame(pca_standard.transform(df_standard))\n",
    "df_standard_pca.columns = dims_7\n",
    "df_standard_numerical_pca = pd.DataFrame(pca_standard_numerical.transform(df_standard_numerical))\n",
    "df_standard_numerical_pca.columns = dims_4"
   ]
  },
  {
   "cell_type": "code",
   "execution_count": null,
   "metadata": {},
   "outputs": [],
   "source": [
    "whos DataFrame"
   ]
  },
  {
   "cell_type": "code",
   "execution_count": null,
   "metadata": {
    "scrolled": true
   },
   "outputs": [],
   "source": [
    "gelman_pca_clusters = vs.Clusters(df_gelman_pca, [2,3,4])\n",
    "gelman_pca_clusters.cluster_plots()"
   ]
  },
  {
   "cell_type": "code",
   "execution_count": null,
   "metadata": {},
   "outputs": [],
   "source": [
    "standard_pca_clusters = vs.Clusters(df_standard_pca, [2,3,4])\n",
    "standard_pca_clusters.cluster_plots()"
   ]
  },
  {
   "cell_type": "code",
   "execution_count": null,
   "metadata": {
    "scrolled": true
   },
   "outputs": [],
   "source": [
    "original_pca_clusters = vs.Clusters(df_original_pca, [2,3,4])\n",
    "original_pca_clusters.cluster_plots()"
   ]
  },
  {
   "cell_type": "code",
   "execution_count": null,
   "metadata": {},
   "outputs": [],
   "source": [
    "gelman_numerical_pca_clusters = vs.Clusters(df_gelman_numerical_pca, [2,3,4])\n",
    "gelman_numerical_pca_clusters.cluster_plots()"
   ]
  },
  {
   "cell_type": "code",
   "execution_count": null,
   "metadata": {
    "scrolled": true
   },
   "outputs": [],
   "source": [
    "standard_numerical_pca_clusters = vs.Clusters(df_standard_numerical_pca, [2,3,4])\n",
    "standard_numerical_pca_clusters.cluster_plots()"
   ]
  },
  {
   "cell_type": "code",
   "execution_count": null,
   "metadata": {},
   "outputs": [],
   "source": [
    "original_numerical_pca_clusters = vs.Clusters(df_original_numerical_pca, [2,3,4])\n",
    "original_numerical_pca_clusters.cluster_plots()"
   ]
  },
  {
   "cell_type": "code",
   "execution_count": null,
   "metadata": {},
   "outputs": [],
   "source": []
  },
  {
   "cell_type": "code",
   "execution_count": null,
   "metadata": {},
   "outputs": [],
   "source": []
  }
 ],
 "metadata": {
  "kernelspec": {
   "display_name": "Python 3",
   "language": "python",
   "name": "python3"
  },
  "language_info": {
   "codemirror_mode": {
    "name": "ipython",
    "version": 3
   },
   "file_extension": ".py",
   "mimetype": "text/x-python",
   "name": "python",
   "nbconvert_exporter": "python",
   "pygments_lexer": "ipython3",
   "version": "3.6.4"
  }
 },
 "nbformat": 4,
 "nbformat_minor": 2
}
