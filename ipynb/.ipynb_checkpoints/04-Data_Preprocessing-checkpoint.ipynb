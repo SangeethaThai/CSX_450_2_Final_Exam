{
 "cells": [
  {
   "cell_type": "markdown",
   "metadata": {},
   "source": [
    "## Data Preprocessing"
   ]
  },
  {
   "cell_type": "code",
   "execution_count": 1,
   "metadata": {},
   "outputs": [],
   "source": [
    "source('../src/util.r')\n",
    "source('../src/multiplot.r')"
   ]
  },
  {
   "cell_type": "markdown",
   "metadata": {},
   "source": [
    "### Read in and merge the data files into one data frame"
   ]
  },
  {
   "cell_type": "code",
   "execution_count": 2,
   "metadata": {},
   "outputs": [],
   "source": [
    "zoning_df = read.csv('../data/zoning.csv')\n",
    "listing_df = read.csv('../data/listing.csv')\n",
    "sale_df = read.csv('../data/sale.csv')"
   ]
  },
  {
   "cell_type": "code",
   "execution_count": 3,
   "metadata": {},
   "outputs": [],
   "source": [
    "ames_housing_df = merge(zoning_df, listing_df, by=\"Id\")\n",
    "ames_housing_df = merge(ames_housing_df, sale_df, by=\"Id\")"
   ]
  },
  {
   "cell_type": "markdown",
   "metadata": {},
   "source": [
    "### Remove Id column from data and set it as rownames"
   ]
  },
  {
   "cell_type": "code",
   "execution_count": 4,
   "metadata": {},
   "outputs": [
    {
     "data": {
      "text/html": [
       "<table>\n",
       "<thead><tr><th scope=col>MSSubClass</th><th scope=col>MSZoning</th><th scope=col>LotFrontage</th><th scope=col>LotArea</th><th scope=col>LotShape</th><th scope=col>LandContour</th><th scope=col>Utilities</th><th scope=col>LotConfig</th><th scope=col>LandSlope</th><th scope=col>Neighborhood</th><th scope=col>⋯</th><th scope=col>PoolArea</th><th scope=col>PoolQC</th><th scope=col>Fence</th><th scope=col>MiscFeature</th><th scope=col>MiscVal</th><th scope=col>MoSold</th><th scope=col>YrSold</th><th scope=col>SaleType</th><th scope=col>SaleCondition</th><th scope=col>SalePrice</th></tr></thead>\n",
       "<tbody>\n",
       "\t<tr><td>60     </td><td>RL     </td><td>65     </td><td> 8450  </td><td>Reg    </td><td>Lvl    </td><td>AllPub </td><td>Inside </td><td>Gtl    </td><td>CollgCr</td><td>⋯      </td><td>0      </td><td>       </td><td>       </td><td>       </td><td>0      </td><td>2      </td><td>2008   </td><td>WD     </td><td>Normal </td><td>208500 </td></tr>\n",
       "\t<tr><td>20     </td><td>RL     </td><td>80     </td><td> 9600  </td><td>Reg    </td><td>Lvl    </td><td>AllPub </td><td>FR2    </td><td>Gtl    </td><td>Veenker</td><td>⋯      </td><td>0      </td><td>       </td><td>       </td><td>       </td><td>0      </td><td>5      </td><td>2007   </td><td>WD     </td><td>Normal </td><td>181500 </td></tr>\n",
       "\t<tr><td>60     </td><td>RL     </td><td>68     </td><td>11250  </td><td>IR1    </td><td>Lvl    </td><td>AllPub </td><td>Inside </td><td>Gtl    </td><td>CollgCr</td><td>⋯      </td><td>0      </td><td>       </td><td>       </td><td>       </td><td>0      </td><td>9      </td><td>2008   </td><td>WD     </td><td>Normal </td><td>223500 </td></tr>\n",
       "\t<tr><td>70     </td><td>RL     </td><td>60     </td><td> 9550  </td><td>IR1    </td><td>Lvl    </td><td>AllPub </td><td>Corner </td><td>Gtl    </td><td>Crawfor</td><td>⋯      </td><td>0      </td><td>       </td><td>       </td><td>       </td><td>0      </td><td>2      </td><td>2006   </td><td>WD     </td><td>Abnorml</td><td>140000 </td></tr>\n",
       "</tbody>\n",
       "</table>\n"
      ],
      "text/latex": [
       "\\begin{tabular}{r|llllllllllllllllllllllllllllllllllllllllllllllllllllllllllllllllllllllllllllllll}\n",
       " MSSubClass & MSZoning & LotFrontage & LotArea & LotShape & LandContour & Utilities & LotConfig & LandSlope & Neighborhood & ⋯ & PoolArea & PoolQC & Fence & MiscFeature & MiscVal & MoSold & YrSold & SaleType & SaleCondition & SalePrice\\\\\n",
       "\\hline\n",
       "\t 60      & RL      & 65      &  8450   & Reg     & Lvl     & AllPub  & Inside  & Gtl     & CollgCr & ⋯       & 0       &         &         &         & 0       & 2       & 2008    & WD      & Normal  & 208500 \\\\\n",
       "\t 20      & RL      & 80      &  9600   & Reg     & Lvl     & AllPub  & FR2     & Gtl     & Veenker & ⋯       & 0       &         &         &         & 0       & 5       & 2007    & WD      & Normal  & 181500 \\\\\n",
       "\t 60      & RL      & 68      & 11250   & IR1     & Lvl     & AllPub  & Inside  & Gtl     & CollgCr & ⋯       & 0       &         &         &         & 0       & 9       & 2008    & WD      & Normal  & 223500 \\\\\n",
       "\t 70      & RL      & 60      &  9550   & IR1     & Lvl     & AllPub  & Corner  & Gtl     & Crawfor & ⋯       & 0       &         &         &         & 0       & 2       & 2006    & WD      & Abnorml & 140000 \\\\\n",
       "\\end{tabular}\n"
      ],
      "text/markdown": [
       "\n",
       "MSSubClass | MSZoning | LotFrontage | LotArea | LotShape | LandContour | Utilities | LotConfig | LandSlope | Neighborhood | ⋯ | PoolArea | PoolQC | Fence | MiscFeature | MiscVal | MoSold | YrSold | SaleType | SaleCondition | SalePrice | \n",
       "|---|---|---|---|\n",
       "| 60      | RL      | 65      |  8450   | Reg     | Lvl     | AllPub  | Inside  | Gtl     | CollgCr | ⋯       | 0       |         |         |         | 0       | 2       | 2008    | WD      | Normal  | 208500  | \n",
       "| 20      | RL      | 80      |  9600   | Reg     | Lvl     | AllPub  | FR2     | Gtl     | Veenker | ⋯       | 0       |         |         |         | 0       | 5       | 2007    | WD      | Normal  | 181500  | \n",
       "| 60      | RL      | 68      | 11250   | IR1     | Lvl     | AllPub  | Inside  | Gtl     | CollgCr | ⋯       | 0       |         |         |         | 0       | 9       | 2008    | WD      | Normal  | 223500  | \n",
       "| 70      | RL      | 60      |  9550   | IR1     | Lvl     | AllPub  | Corner  | Gtl     | Crawfor | ⋯       | 0       |         |         |         | 0       | 2       | 2006    | WD      | Abnorml | 140000  | \n",
       "\n",
       "\n"
      ],
      "text/plain": [
       "  MSSubClass MSZoning LotFrontage LotArea LotShape LandContour Utilities\n",
       "1 60         RL       65           8450   Reg      Lvl         AllPub   \n",
       "2 20         RL       80           9600   Reg      Lvl         AllPub   \n",
       "3 60         RL       68          11250   IR1      Lvl         AllPub   \n",
       "4 70         RL       60           9550   IR1      Lvl         AllPub   \n",
       "  LotConfig LandSlope Neighborhood ⋯ PoolArea PoolQC Fence MiscFeature MiscVal\n",
       "1 Inside    Gtl       CollgCr      ⋯ 0                                 0      \n",
       "2 FR2       Gtl       Veenker      ⋯ 0                                 0      \n",
       "3 Inside    Gtl       CollgCr      ⋯ 0                                 0      \n",
       "4 Corner    Gtl       Crawfor      ⋯ 0                                 0      \n",
       "  MoSold YrSold SaleType SaleCondition SalePrice\n",
       "1 2      2008   WD       Normal        208500   \n",
       "2 5      2007   WD       Normal        181500   \n",
       "3 9      2008   WD       Normal        223500   \n",
       "4 2      2006   WD       Abnorml       140000   "
      ]
     },
     "metadata": {},
     "output_type": "display_data"
    }
   ],
   "source": [
    "rownames(ames_housing_df) <- ames_housing_df$Id\n",
    "ames_housing_df$Id <- NULL\n",
    "head(ames_housing_df, 4)"
   ]
  },
  {
   "cell_type": "markdown",
   "metadata": {},
   "source": [
    "### Separate features from Target"
   ]
  },
  {
   "cell_type": "code",
   "execution_count": 5,
   "metadata": {},
   "outputs": [],
   "source": [
    "features_df <- ames_housing_df[, !names(ames_housing_df) %in% c(\"SalePrice\")]"
   ]
  },
  {
   "cell_type": "markdown",
   "metadata": {},
   "source": [
    "### Convert numerical features, that are actually categorical/Ordinal, to factors"
   ]
  },
  {
   "cell_type": "code",
   "execution_count": 6,
   "metadata": {},
   "outputs": [],
   "source": [
    "features_df$MSSubClass <- as.factor(features_df$MSSubClass)\n",
    "features_df$OverallQual <- as.factor(features_df$OverallQual)\n",
    "features_df$OverallCond <- as.factor(features_df$OverallCond)\n",
    "features_df$BsmtFullBath <- as.factor(features_df$BsmtFullBath)\n",
    "features_df$BsmtHalfBath <- as.factor(features_df$BsmtHalfBath)\n",
    "features_df$FullBath <- as.factor(features_df$FullBath)\n",
    "features_df$HalfBath <- as.factor(features_df$HalfBath)\n",
    "features_df$BedroomAbvGr <- as.factor(features_df$BedroomAbvGr)\n",
    "features_df$KitchenAbvGr <- as.factor(features_df$KitchenAbvGr)\n",
    "features_df$TotRmsAbvGrd <- as.factor(features_df$TotRmsAbvGrd)\n",
    "features_df$Fireplaces <- as.factor(features_df$Fireplaces)\n",
    "features_df$GarageCars <- as.factor(features_df$GarageCars)\n",
    "features_df$MoSold <- as.factor(features_df$MoSold)"
   ]
  },
  {
   "cell_type": "markdown",
   "metadata": {},
   "source": [
    "### Find and Handle blanks & NAs using domain knowledge"
   ]
  },
  {
   "cell_type": "markdown",
   "metadata": {},
   "source": [
    "#### Find NAs"
   ]
  },
  {
   "cell_type": "code",
   "execution_count": 7,
   "metadata": {},
   "outputs": [
    {
     "data": {
      "text/html": [
       "<dl class=dl-horizontal>\n",
       "\t<dt>LotFrontage</dt>\n",
       "\t\t<dd>259</dd>\n",
       "\t<dt>MasVnrArea</dt>\n",
       "\t\t<dd>8</dd>\n",
       "\t<dt>GarageYrBlt</dt>\n",
       "\t\t<dd>81</dd>\n",
       "</dl>\n"
      ],
      "text/latex": [
       "\\begin{description*}\n",
       "\\item[LotFrontage] 259\n",
       "\\item[MasVnrArea] 8\n",
       "\\item[GarageYrBlt] 81\n",
       "\\end{description*}\n"
      ],
      "text/markdown": [
       "LotFrontage\n",
       ":   259MasVnrArea\n",
       ":   8GarageYrBlt\n",
       ":   81\n",
       "\n"
      ],
      "text/plain": [
       "LotFrontage  MasVnrArea GarageYrBlt \n",
       "        259           8          81 "
      ]
     },
     "metadata": {},
     "output_type": "display_data"
    }
   ],
   "source": [
    "nan_sums = colSums(is.na(features_df))\n",
    "nan_sums[nan_sums > 0]"
   ]
  },
  {
   "cell_type": "markdown",
   "metadata": {},
   "source": [
    "#### Impute NAs with mean "
   ]
  },
  {
   "cell_type": "code",
   "execution_count": 8,
   "metadata": {},
   "outputs": [],
   "source": [
    "mean_LotFrontage <- mean(features_df$LotFrontage, na.rm=T)\n",
    "mean_MasVnrArea <- mean(features_df$MasVnrArea, na.rm=T)\n",
    "mean_GarageYrBlt <- mean(features_df$GarageYrBlt, na.rm=T)\n",
    "\n",
    "features_df$LotFrontage[is.na(features_df$LotFrontage)] <- mean_LotFrontage\n",
    "features_df$MasVnrArea[is.na(features_df$MasVnrArea)] <- mean_MasVnrArea\n",
    "features_df$GarageYrBlt[is.na(features_df$GarageYrBlt)] <- mean_GarageYrBlt"
   ]
  },
  {
   "cell_type": "markdown",
   "metadata": {},
   "source": [
    "#### Find blanks"
   ]
  },
  {
   "cell_type": "code",
   "execution_count": 9,
   "metadata": {},
   "outputs": [
    {
     "name": "stdout",
     "output_type": "stream",
     "text": [
      "[1] \"Alley 1369\"\n",
      "[1] \"MasVnrType 8\"\n",
      "[1] \"BsmtQual 37\"\n",
      "[1] \"BsmtCond 37\"\n",
      "[1] \"BsmtExposure 38\"\n",
      "[1] \"BsmtFinType1 37\"\n",
      "[1] \"BsmtFinType2 38\"\n",
      "[1] \"Electrical 1\"\n",
      "[1] \"FireplaceQu 690\"\n",
      "[1] \"GarageType 81\"\n",
      "[1] \"GarageFinish 81\"\n",
      "[1] \"GarageQual 81\"\n",
      "[1] \"GarageCond 81\"\n",
      "[1] \"PoolQC 1453\"\n",
      "[1] \"Fence 1179\"\n",
      "[1] \"MiscFeature 1406\"\n"
     ]
    }
   ],
   "source": [
    "colsums_is_blank(features_df)"
   ]
  },
  {
   "cell_type": "markdown",
   "metadata": {},
   "source": [
    "#### Impute blanks with appropriate text for categorical columns"
   ]
  },
  {
   "cell_type": "code",
   "execution_count": 10,
   "metadata": {},
   "outputs": [],
   "source": [
    "levels(features_df$Alley) <- c(levels(features_df$Alley), \"No alley access\")\n",
    "features_df$Alley[features_df$Alley==\"\"] <- \"No alley access\"\n",
    "\n",
    "levels(features_df$MasVnrType) <- c(levels(features_df$MasVnrType), \"None\")\n",
    "features_df$MasVnrType[features_df$MasVnrType==\"\"] <- \"None\"\n",
    "\n",
    "levels(features_df$BsmtQual) <- c(levels(features_df$BsmtQual), \"No Basement\")\n",
    "features_df$BsmtQual[features_df$BsmtQual==\"\"] <- \"No Basement\"\n",
    "\n",
    "levels(features_df$BsmtCond) <- c(levels(features_df$BsmtCond), \"No Basement\")\n",
    "features_df$BsmtCond[features_df$BsmtCond==\"\"] <- \"No Basement\"\n",
    "\n",
    "levels(features_df$BsmtExposure) <- c(levels(features_df$BsmtExposure), \"No Basement\")\n",
    "features_df$BsmtExposure[features_df$BsmtExposure==\"\"] <- \"No Basement\"\n",
    "\n",
    "levels(features_df$BsmtFinType1) <- c(levels(features_df$BsmtFinType1), \"No Basement\")\n",
    "features_df$BsmtFinType1[features_df$BsmtFinType1==\"\"] <- \"No Basement\"\n",
    "\n",
    "levels(features_df$BsmtFinType2) <- c(levels(features_df$BsmtFinType2), \"No Basement\")\n",
    "features_df$BsmtFinType2[features_df$BsmtFinType2==\"\"] <- \"No Basement\"\n",
    "\n",
    "levels(features_df$Electrical) <- c(levels(features_df$Electrical), \"No Electrical\")\n",
    "features_df$Electrical[features_df$Electrical==\"\"] <- \"No Electrical\"\n",
    "\n",
    "levels(features_df$FireplaceQu) <- c(levels(features_df$FireplaceQu), \"No Fireplace\")\n",
    "features_df$FireplaceQu[features_df$FireplaceQu==\"\"] <- \"No Fireplace\"\n",
    "\n",
    "levels(features_df$GarageType) <- c(levels(features_df$GarageType), \"No Garage\")\n",
    "features_df$GarageType[features_df$GarageType==\"\"] <- \"No Garage\"\n",
    "\n",
    "levels(features_df$GarageFinish) <- c(levels(features_df$GarageFinish), \"No Garage\")\n",
    "features_df$GarageFinish[features_df$GarageFinish==\"\"] <- \"No Garage\"\n",
    "\n",
    "levels(features_df$GarageQual) <- c(levels(features_df$GarageQual), \"No Garage\")\n",
    "features_df$GarageQual[features_df$GarageQual==\"\"] <- \"No Garage\"\n",
    "\n",
    "levels(features_df$GarageCond) <- c(levels(features_df$GarageCond), \"No Garage\")\n",
    "features_df$GarageCond[features_df$GarageCond==\"\"] <- \"No Garage\"\n",
    "\n",
    "levels(features_df$PoolQC) <- c(levels(features_df$PoolQC), \"No Pool\")\n",
    "features_df$PoolQC[features_df$PoolQC==\"\"] <- \"No Pool\"\n",
    "\n",
    "levels(features_df$Fence) <- c(levels(features_df$Fence), \"No Fence\")\n",
    "features_df$Fence[features_df$Fence==\"\"] <- \"No Fence\"\n",
    "\n",
    "levels(features_df$MiscFeature) <- c(levels(features_df$MiscFeature), \"None\")\n",
    "features_df$MiscFeature[features_df$MiscFeature==\"\"] <- \"None\""
   ]
  },
  {
   "cell_type": "code",
   "execution_count": 11,
   "metadata": {},
   "outputs": [
    {
     "ename": "ERROR",
     "evalue": "Error in eval(expr, envir, enclos): object 'empty_means_NA' not found\n",
     "output_type": "error",
     "traceback": [
      "Error in eval(expr, envir, enclos): object 'empty_means_NA' not found\nTraceback:\n"
     ]
    }
   ],
   "source": [
    "empty_means_NA <- c(\"MasVnrType\",\"Electrical\")\n",
    "for (feature in empty_means_NA) {\n",
    "    features_df[,feature] <- replace_empty_with_NA(features_df[,feature])\n",
    "}\n",
    "\n",
    "features_df <- na.omit(features_df)"
   ]
  },
  {
   "cell_type": "markdown",
   "metadata": {},
   "source": [
    "### Log & Scale (standard) numeric features"
   ]
  },
  {
   "cell_type": "code",
   "execution_count": null,
   "metadata": {},
   "outputs": [],
   "source": [
    "numeric_features_df = Filter(is.numeric, features_df)\n",
    "\n",
    "numeric_features_names = colnames(numeric_features_df)\n",
    "numeric_features_names"
   ]
  },
  {
   "cell_type": "code",
   "execution_count": null,
   "metadata": {},
   "outputs": [],
   "source": [
    "numeric_log_df = log(numeric_features_df + 1)\n",
    "numeric_log_sc_df = data.frame(scale(numeric_log_df))"
   ]
  },
  {
   "cell_type": "markdown",
   "metadata": {},
   "source": [
    "#### Let's plot and view the transformation"
   ]
  },
  {
   "cell_type": "code",
   "execution_count": null,
   "metadata": {
    "scrolled": false
   },
   "outputs": [],
   "source": [
    "library(repr)\n",
    "options(repr.plot.width=10, repr.plot.height=4) \n",
    "\n",
    "plot_transformation <- function (feature) {\n",
    "    original_feature <- as.vector(numeric_features_df[[feature]])\n",
    "    log_feature <- as.vector(numeric_log_df[[feature]])\n",
    "    log_scaled_feature <- as.vector(numeric_log_sc_df[[feature]])\n",
    "    p1 <- qplot(original_feature, geom=\"histogram\", bins=200, alpha=I(.4),)+\n",
    "        geom_vline(aes(xintercept=mean(original_feature)), color=\"red\", linetype=\"dashed\", size=1)+\n",
    "        geom_vline(aes(xintercept=median(original_feature)), color=\"blue\", linetype=\"dashed\", size=1)+\n",
    "        ggtitle(paste(\"Original Distribution of\", feature))   \n",
    "    p2 <- qplot(log_feature, geom=\"histogram\", bins=200, alpha=I(.4),)+\n",
    "        geom_vline(aes(xintercept=mean(log_feature)), color=\"red\", linetype=\"dashed\", size=1)+\n",
    "        geom_vline(aes(xintercept=median(log_feature)), color=\"blue\", linetype=\"dashed\", size=1)+\n",
    "        ggtitle(paste(\"Log Distribution of\", feature))\n",
    "    p3 <- qplot(log_scaled_feature, geom=\"histogram\", bins=200, alpha=I(.4),)+\n",
    "        geom_vline(aes(xintercept=mean(log_scaled_feature)), color=\"red\", linetype=\"dashed\", size=1)+\n",
    "        geom_vline(aes(xintercept=median(log_scaled_feature)), color=\"blue\", linetype=\"dashed\", size=1)  +\n",
    "        ggtitle(paste(\"Log Scaled Distribution of\", feature))  \n",
    "    multiplot(p1, p2, p3, cols=3)\n",
    "}\n",
    "\n",
    "for (feature in numeric_features_names) {\n",
    "    plot_transformation(feature)\n",
    "}\n",
    "\n"
   ]
  },
  {
   "cell_type": "markdown",
   "metadata": {},
   "source": [
    "**Log transformation reduces the skew, and scaling makes the values of each feature in the data have zero-mean (when subtracting the mean in the numerator) and unit-variance.**\n",
    "\n",
    "- FirstFlrSF (First Floow Sq Ft.): \n",
    "    - we can see that the original distribution is skewed to the right (long tail on the right). \n",
    "    - Log distribution shows that it is not skewed anymore\n",
    "    - Scale distribution, shows the mean at 0, and that except for the scale change the distribution remained the same.\n",
    "    \n",
    "- GrLiveArea (Ground Livig Area)\n",
    "    - we can see that the original distribution is skewed sligntly to the right (small tail on the right). \n",
    "    - Log distribution shows that the distribution has been evened out. Also, the mean (red line) moved to the left of the median (blue line).\n",
    "    - Scale distribution, shows the mean at 0, and scale changed from log scale to standard scale.\n",
    "\n",
    "- TotalBsmtSF (Total Basement Sq Ft)\n",
    "    - we can see that the original distribution is skewed to the right (shows a long tail on the right). \n",
    "    - Log distribution shows that the distribution has been evened out. Also, the mean (red line) moved to the left of the median (blue line), because we have a good number of houses that don't have any basement\n",
    "    - Scale distribution, shows the mean at 0, and scale changed from log scale to standard scale."
   ]
  },
  {
   "cell_type": "markdown",
   "metadata": {},
   "source": [
    "### One Hot Encode Categorical Features"
   ]
  },
  {
   "cell_type": "code",
   "execution_count": null,
   "metadata": {},
   "outputs": [],
   "source": [
    "install.packages(\"onehot\")"
   ]
  },
  {
   "cell_type": "code",
   "execution_count": null,
   "metadata": {},
   "outputs": [],
   "source": [
    "library(\"onehot\")"
   ]
  },
  {
   "cell_type": "code",
   "execution_count": null,
   "metadata": {},
   "outputs": [],
   "source": [
    "categorical_features_df = Filter(is.factor, features_df)\n",
    "head(categorical_features_df)"
   ]
  },
  {
   "cell_type": "code",
   "execution_count": null,
   "metadata": {},
   "outputs": [],
   "source": [
    "dim(categorical_features_df)"
   ]
  },
  {
   "cell_type": "code",
   "execution_count": null,
   "metadata": {
    "scrolled": true
   },
   "outputs": [],
   "source": [
    "one_hot_encoding = onehot(categorical_features_df, stringsAsFactors = FALSE, addNA = FALSE, max_levels = 25) \n",
    "encoded_features <- predict(one_hot_encoding, categorical_features_df)\n",
    "colnames(encoded_features)"
   ]
  },
  {
   "cell_type": "code",
   "execution_count": null,
   "metadata": {},
   "outputs": [],
   "source": []
  }
 ],
 "metadata": {
  "kernelspec": {
   "display_name": "R",
   "language": "R",
   "name": "ir"
  },
  "language_info": {
   "codemirror_mode": "r",
   "file_extension": ".r",
   "mimetype": "text/x-r-source",
   "name": "R",
   "pygments_lexer": "r",
   "version": "3.4.1"
  }
 },
 "nbformat": 4,
 "nbformat_minor": 2
}
