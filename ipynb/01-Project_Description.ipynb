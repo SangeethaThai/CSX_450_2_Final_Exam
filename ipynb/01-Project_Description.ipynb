{
 "cells": [
  {
   "cell_type": "markdown",
   "metadata": {},
   "source": [
    "### Domain\n",
    "\n",
    "Data set contains information from the Ames Assessor’s Office used in computing assessed values for individual residential properties sold in Ames, IA from 2006 to 2010.\n",
    "\n",
    "The type of information contained in the data is similar to what a typical home buyer would want to know before making a purchase.\n",
    "\n",
    "\n",
    "### Problem Statement\n",
    "\n",
    "This is a Regression problem in which the challenge is to predict the Sale Price of residential properties sold in Ames, Iowa given the house features such as neighborhood, square footage, number of full bathrooms, etc. \n",
    "\n",
    "The task $T$ is a Regression and the experience $E$ is the list of houses and their sale price.\n",
    "\n",
    "\n",
    "### Data Description\n",
    "\n",
    "The data has 1460 observations and 81 columns including 1 Id column that is the Observation number, 79 features (22 nominal, 23 ordinal, 14 discrete, and 20 continuous variables) and a Target (continuous) variable, Sales Price.\n",
    "\n",
    "Dataset columns are splits between 3 files, zoning.csv, listing.csv, sale.csv and contain relevant columns as the file names indicate. \n"
   ]
  },
  {
   "cell_type": "code",
   "execution_count": 1,
   "metadata": {},
   "outputs": [],
   "source": [
    "zoning_df = read.csv('../data/zoning.csv')\n",
    "listing_df = read.csv('../data/listing.csv')\n",
    "sale_df = read.csv('../data/sale.csv')"
   ]
  },
  {
   "cell_type": "code",
   "execution_count": 2,
   "metadata": {},
   "outputs": [
    {
     "data": {
      "text/html": [
       "<table>\n",
       "<thead><tr><th scope=col>Id</th><th scope=col>MSSubClass</th><th scope=col>MSZoning</th><th scope=col>LotFrontage</th><th scope=col>LotArea</th><th scope=col>LotShape</th><th scope=col>LandContour</th><th scope=col>Utilities</th><th scope=col>LotConfig</th><th scope=col>LandSlope</th><th scope=col>Neighborhood</th><th scope=col>Condition1</th><th scope=col>Condition2</th><th scope=col>BldgType</th><th scope=col>HouseStyle</th></tr></thead>\n",
       "<tbody>\n",
       "\t<tr><td>1      </td><td>60     </td><td>RL     </td><td>65     </td><td> 8450  </td><td>Reg    </td><td>Lvl    </td><td>AllPub </td><td>Inside </td><td>Gtl    </td><td>CollgCr</td><td>Norm   </td><td>Norm   </td><td>1Fam   </td><td>2Story </td></tr>\n",
       "\t<tr><td>2      </td><td>20     </td><td>RL     </td><td>80     </td><td> 9600  </td><td>Reg    </td><td>Lvl    </td><td>AllPub </td><td>FR2    </td><td>Gtl    </td><td>Veenker</td><td>Feedr  </td><td>Norm   </td><td>1Fam   </td><td>1Story </td></tr>\n",
       "\t<tr><td>3      </td><td>60     </td><td>RL     </td><td>68     </td><td>11250  </td><td>IR1    </td><td>Lvl    </td><td>AllPub </td><td>Inside </td><td>Gtl    </td><td>CollgCr</td><td>Norm   </td><td>Norm   </td><td>1Fam   </td><td>2Story </td></tr>\n",
       "</tbody>\n",
       "</table>\n"
      ],
      "text/latex": [
       "\\begin{tabular}{r|lllllllllllllll}\n",
       " Id & MSSubClass & MSZoning & LotFrontage & LotArea & LotShape & LandContour & Utilities & LotConfig & LandSlope & Neighborhood & Condition1 & Condition2 & BldgType & HouseStyle\\\\\n",
       "\\hline\n",
       "\t 1       & 60      & RL      & 65      &  8450   & Reg     & Lvl     & AllPub  & Inside  & Gtl     & CollgCr & Norm    & Norm    & 1Fam    & 2Story \\\\\n",
       "\t 2       & 20      & RL      & 80      &  9600   & Reg     & Lvl     & AllPub  & FR2     & Gtl     & Veenker & Feedr   & Norm    & 1Fam    & 1Story \\\\\n",
       "\t 3       & 60      & RL      & 68      & 11250   & IR1     & Lvl     & AllPub  & Inside  & Gtl     & CollgCr & Norm    & Norm    & 1Fam    & 2Story \\\\\n",
       "\\end{tabular}\n"
      ],
      "text/markdown": [
       "\n",
       "Id | MSSubClass | MSZoning | LotFrontage | LotArea | LotShape | LandContour | Utilities | LotConfig | LandSlope | Neighborhood | Condition1 | Condition2 | BldgType | HouseStyle | \n",
       "|---|---|---|\n",
       "| 1       | 60      | RL      | 65      |  8450   | Reg     | Lvl     | AllPub  | Inside  | Gtl     | CollgCr | Norm    | Norm    | 1Fam    | 2Story  | \n",
       "| 2       | 20      | RL      | 80      |  9600   | Reg     | Lvl     | AllPub  | FR2     | Gtl     | Veenker | Feedr   | Norm    | 1Fam    | 1Story  | \n",
       "| 3       | 60      | RL      | 68      | 11250   | IR1     | Lvl     | AllPub  | Inside  | Gtl     | CollgCr | Norm    | Norm    | 1Fam    | 2Story  | \n",
       "\n",
       "\n"
      ],
      "text/plain": [
       "  Id MSSubClass MSZoning LotFrontage LotArea LotShape LandContour Utilities\n",
       "1 1  60         RL       65           8450   Reg      Lvl         AllPub   \n",
       "2 2  20         RL       80           9600   Reg      Lvl         AllPub   \n",
       "3 3  60         RL       68          11250   IR1      Lvl         AllPub   \n",
       "  LotConfig LandSlope Neighborhood Condition1 Condition2 BldgType HouseStyle\n",
       "1 Inside    Gtl       CollgCr      Norm       Norm       1Fam     2Story    \n",
       "2 FR2       Gtl       Veenker      Feedr      Norm       1Fam     1Story    \n",
       "3 Inside    Gtl       CollgCr      Norm       Norm       1Fam     2Story    "
      ]
     },
     "metadata": {},
     "output_type": "display_data"
    },
    {
     "data": {
      "text/html": [
       "<table>\n",
       "<thead><tr><th scope=col>Id</th><th scope=col>Street</th><th scope=col>Alley</th><th scope=col>OverallQual</th><th scope=col>OverallCond</th><th scope=col>YearBuilt</th><th scope=col>YearRemodAdd</th><th scope=col>RoofStyle</th><th scope=col>RoofMatl</th><th scope=col>Exterior1st</th><th scope=col>⋯</th><th scope=col>WoodDeckSF</th><th scope=col>OpenPorchSF</th><th scope=col>EnclosedPorch</th><th scope=col>ThreeSsnPorch</th><th scope=col>ScreenPorch</th><th scope=col>PoolArea</th><th scope=col>PoolQC</th><th scope=col>Fence</th><th scope=col>MiscFeature</th><th scope=col>MiscVal</th></tr></thead>\n",
       "<tbody>\n",
       "\t<tr><td>1      </td><td>Pave   </td><td>       </td><td>7      </td><td>5      </td><td>2003   </td><td>2003   </td><td>Gable  </td><td>CompShg</td><td>VinylSd</td><td>⋯      </td><td>  0    </td><td>61     </td><td>0      </td><td>0      </td><td>0      </td><td>0      </td><td>       </td><td>       </td><td>       </td><td>0      </td></tr>\n",
       "\t<tr><td>2      </td><td>Pave   </td><td>       </td><td>6      </td><td>8      </td><td>1976   </td><td>1976   </td><td>Gable  </td><td>CompShg</td><td>MetalSd</td><td>⋯      </td><td>298    </td><td> 0     </td><td>0      </td><td>0      </td><td>0      </td><td>0      </td><td>       </td><td>       </td><td>       </td><td>0      </td></tr>\n",
       "\t<tr><td>3      </td><td>Pave   </td><td>       </td><td>7      </td><td>5      </td><td>2001   </td><td>2002   </td><td>Gable  </td><td>CompShg</td><td>VinylSd</td><td>⋯      </td><td>  0    </td><td>42     </td><td>0      </td><td>0      </td><td>0      </td><td>0      </td><td>       </td><td>       </td><td>       </td><td>0      </td></tr>\n",
       "</tbody>\n",
       "</table>\n"
      ],
      "text/latex": [
       "\\begin{tabular}{r|llllllllllllllllllllllllllllllllllllllllllllllllllllllllllllll}\n",
       " Id & Street & Alley & OverallQual & OverallCond & YearBuilt & YearRemodAdd & RoofStyle & RoofMatl & Exterior1st & ⋯ & WoodDeckSF & OpenPorchSF & EnclosedPorch & ThreeSsnPorch & ScreenPorch & PoolArea & PoolQC & Fence & MiscFeature & MiscVal\\\\\n",
       "\\hline\n",
       "\t 1       & Pave    &         & 7       & 5       & 2003    & 2003    & Gable   & CompShg & VinylSd & ⋯       &   0     & 61      & 0       & 0       & 0       & 0       &         &         &         & 0      \\\\\n",
       "\t 2       & Pave    &         & 6       & 8       & 1976    & 1976    & Gable   & CompShg & MetalSd & ⋯       & 298     &  0      & 0       & 0       & 0       & 0       &         &         &         & 0      \\\\\n",
       "\t 3       & Pave    &         & 7       & 5       & 2001    & 2002    & Gable   & CompShg & VinylSd & ⋯       &   0     & 42      & 0       & 0       & 0       & 0       &         &         &         & 0      \\\\\n",
       "\\end{tabular}\n"
      ],
      "text/markdown": [
       "\n",
       "Id | Street | Alley | OverallQual | OverallCond | YearBuilt | YearRemodAdd | RoofStyle | RoofMatl | Exterior1st | ⋯ | WoodDeckSF | OpenPorchSF | EnclosedPorch | ThreeSsnPorch | ScreenPorch | PoolArea | PoolQC | Fence | MiscFeature | MiscVal | \n",
       "|---|---|---|\n",
       "| 1       | Pave    |         | 7       | 5       | 2003    | 2003    | Gable   | CompShg | VinylSd | ⋯       |   0     | 61      | 0       | 0       | 0       | 0       |         |         |         | 0       | \n",
       "| 2       | Pave    |         | 6       | 8       | 1976    | 1976    | Gable   | CompShg | MetalSd | ⋯       | 298     |  0      | 0       | 0       | 0       | 0       |         |         |         | 0       | \n",
       "| 3       | Pave    |         | 7       | 5       | 2001    | 2002    | Gable   | CompShg | VinylSd | ⋯       |   0     | 42      | 0       | 0       | 0       | 0       |         |         |         | 0       | \n",
       "\n",
       "\n"
      ],
      "text/plain": [
       "  Id Street Alley OverallQual OverallCond YearBuilt YearRemodAdd RoofStyle\n",
       "1 1  Pave         7           5           2003      2003         Gable    \n",
       "2 2  Pave         6           8           1976      1976         Gable    \n",
       "3 3  Pave         7           5           2001      2002         Gable    \n",
       "  RoofMatl Exterior1st ⋯ WoodDeckSF OpenPorchSF EnclosedPorch ThreeSsnPorch\n",
       "1 CompShg  VinylSd     ⋯   0        61          0             0            \n",
       "2 CompShg  MetalSd     ⋯ 298         0          0             0            \n",
       "3 CompShg  VinylSd     ⋯   0        42          0             0            \n",
       "  ScreenPorch PoolArea PoolQC Fence MiscFeature MiscVal\n",
       "1 0           0                                 0      \n",
       "2 0           0                                 0      \n",
       "3 0           0                                 0      "
      ]
     },
     "metadata": {},
     "output_type": "display_data"
    },
    {
     "data": {
      "text/html": [
       "<table>\n",
       "<thead><tr><th scope=col>Id</th><th scope=col>MoSold</th><th scope=col>YrSold</th><th scope=col>SaleType</th><th scope=col>SaleCondition</th><th scope=col>SalePrice</th></tr></thead>\n",
       "<tbody>\n",
       "\t<tr><td>1     </td><td>2     </td><td>2008  </td><td>WD    </td><td>Normal</td><td>208500</td></tr>\n",
       "\t<tr><td>2     </td><td>5     </td><td>2007  </td><td>WD    </td><td>Normal</td><td>181500</td></tr>\n",
       "\t<tr><td>3     </td><td>9     </td><td>2008  </td><td>WD    </td><td>Normal</td><td>223500</td></tr>\n",
       "</tbody>\n",
       "</table>\n"
      ],
      "text/latex": [
       "\\begin{tabular}{r|llllll}\n",
       " Id & MoSold & YrSold & SaleType & SaleCondition & SalePrice\\\\\n",
       "\\hline\n",
       "\t 1      & 2      & 2008   & WD     & Normal & 208500\\\\\n",
       "\t 2      & 5      & 2007   & WD     & Normal & 181500\\\\\n",
       "\t 3      & 9      & 2008   & WD     & Normal & 223500\\\\\n",
       "\\end{tabular}\n"
      ],
      "text/markdown": [
       "\n",
       "Id | MoSold | YrSold | SaleType | SaleCondition | SalePrice | \n",
       "|---|---|---|\n",
       "| 1      | 2      | 2008   | WD     | Normal | 208500 | \n",
       "| 2      | 5      | 2007   | WD     | Normal | 181500 | \n",
       "| 3      | 9      | 2008   | WD     | Normal | 223500 | \n",
       "\n",
       "\n"
      ],
      "text/plain": [
       "  Id MoSold YrSold SaleType SaleCondition SalePrice\n",
       "1 1  2      2008   WD       Normal        208500   \n",
       "2 2  5      2007   WD       Normal        181500   \n",
       "3 3  9      2008   WD       Normal        223500   "
      ]
     },
     "metadata": {},
     "output_type": "display_data"
    }
   ],
   "source": [
    "head(zoning_df, 3)\n",
    "head(listing_df, 3)\n",
    "head(sale_df, 3)"
   ]
  },
  {
   "cell_type": "markdown",
   "metadata": {},
   "source": [
    "##### Notice that Id column identifies each of the observations in the 3 dataset files above. Let's combine the data from all three into one dataframe using the id column to join the rows."
   ]
  },
  {
   "cell_type": "code",
   "execution_count": 3,
   "metadata": {},
   "outputs": [
    {
     "data": {
      "text/html": [
       "<table>\n",
       "<thead><tr><th scope=col>Id</th><th scope=col>MSSubClass</th><th scope=col>MSZoning</th><th scope=col>LotFrontage</th><th scope=col>LotArea</th><th scope=col>LotShape</th><th scope=col>LandContour</th><th scope=col>Utilities</th><th scope=col>LotConfig</th><th scope=col>LandSlope</th><th scope=col>⋯</th><th scope=col>PoolArea</th><th scope=col>PoolQC</th><th scope=col>Fence</th><th scope=col>MiscFeature</th><th scope=col>MiscVal</th><th scope=col>MoSold</th><th scope=col>YrSold</th><th scope=col>SaleType</th><th scope=col>SaleCondition</th><th scope=col>SalePrice</th></tr></thead>\n",
       "<tbody>\n",
       "\t<tr><td>1      </td><td>60     </td><td>RL     </td><td>65     </td><td> 8450  </td><td>Reg    </td><td>Lvl    </td><td>AllPub </td><td>Inside </td><td>Gtl    </td><td>⋯      </td><td>0      </td><td>       </td><td>       </td><td>       </td><td>0      </td><td>2      </td><td>2008   </td><td>WD     </td><td>Normal </td><td>208500 </td></tr>\n",
       "\t<tr><td>2      </td><td>20     </td><td>RL     </td><td>80     </td><td> 9600  </td><td>Reg    </td><td>Lvl    </td><td>AllPub </td><td>FR2    </td><td>Gtl    </td><td>⋯      </td><td>0      </td><td>       </td><td>       </td><td>       </td><td>0      </td><td>5      </td><td>2007   </td><td>WD     </td><td>Normal </td><td>181500 </td></tr>\n",
       "\t<tr><td>3      </td><td>60     </td><td>RL     </td><td>68     </td><td>11250  </td><td>IR1    </td><td>Lvl    </td><td>AllPub </td><td>Inside </td><td>Gtl    </td><td>⋯      </td><td>0      </td><td>       </td><td>       </td><td>       </td><td>0      </td><td>9      </td><td>2008   </td><td>WD     </td><td>Normal </td><td>223500 </td></tr>\n",
       "\t<tr><td>4      </td><td>70     </td><td>RL     </td><td>60     </td><td> 9550  </td><td>IR1    </td><td>Lvl    </td><td>AllPub </td><td>Corner </td><td>Gtl    </td><td>⋯      </td><td>0      </td><td>       </td><td>       </td><td>       </td><td>0      </td><td>2      </td><td>2006   </td><td>WD     </td><td>Abnorml</td><td>140000 </td></tr>\n",
       "</tbody>\n",
       "</table>\n"
      ],
      "text/latex": [
       "\\begin{tabular}{r|lllllllllllllllllllllllllllllllllllllllllllllllllllllllllllllllllllllllllllllllll}\n",
       " Id & MSSubClass & MSZoning & LotFrontage & LotArea & LotShape & LandContour & Utilities & LotConfig & LandSlope & ⋯ & PoolArea & PoolQC & Fence & MiscFeature & MiscVal & MoSold & YrSold & SaleType & SaleCondition & SalePrice\\\\\n",
       "\\hline\n",
       "\t 1       & 60      & RL      & 65      &  8450   & Reg     & Lvl     & AllPub  & Inside  & Gtl     & ⋯       & 0       &         &         &         & 0       & 2       & 2008    & WD      & Normal  & 208500 \\\\\n",
       "\t 2       & 20      & RL      & 80      &  9600   & Reg     & Lvl     & AllPub  & FR2     & Gtl     & ⋯       & 0       &         &         &         & 0       & 5       & 2007    & WD      & Normal  & 181500 \\\\\n",
       "\t 3       & 60      & RL      & 68      & 11250   & IR1     & Lvl     & AllPub  & Inside  & Gtl     & ⋯       & 0       &         &         &         & 0       & 9       & 2008    & WD      & Normal  & 223500 \\\\\n",
       "\t 4       & 70      & RL      & 60      &  9550   & IR1     & Lvl     & AllPub  & Corner  & Gtl     & ⋯       & 0       &         &         &         & 0       & 2       & 2006    & WD      & Abnorml & 140000 \\\\\n",
       "\\end{tabular}\n"
      ],
      "text/markdown": [
       "\n",
       "Id | MSSubClass | MSZoning | LotFrontage | LotArea | LotShape | LandContour | Utilities | LotConfig | LandSlope | ⋯ | PoolArea | PoolQC | Fence | MiscFeature | MiscVal | MoSold | YrSold | SaleType | SaleCondition | SalePrice | \n",
       "|---|---|---|---|\n",
       "| 1       | 60      | RL      | 65      |  8450   | Reg     | Lvl     | AllPub  | Inside  | Gtl     | ⋯       | 0       |         |         |         | 0       | 2       | 2008    | WD      | Normal  | 208500  | \n",
       "| 2       | 20      | RL      | 80      |  9600   | Reg     | Lvl     | AllPub  | FR2     | Gtl     | ⋯       | 0       |         |         |         | 0       | 5       | 2007    | WD      | Normal  | 181500  | \n",
       "| 3       | 60      | RL      | 68      | 11250   | IR1     | Lvl     | AllPub  | Inside  | Gtl     | ⋯       | 0       |         |         |         | 0       | 9       | 2008    | WD      | Normal  | 223500  | \n",
       "| 4       | 70      | RL      | 60      |  9550   | IR1     | Lvl     | AllPub  | Corner  | Gtl     | ⋯       | 0       |         |         |         | 0       | 2       | 2006    | WD      | Abnorml | 140000  | \n",
       "\n",
       "\n"
      ],
      "text/plain": [
       "  Id MSSubClass MSZoning LotFrontage LotArea LotShape LandContour Utilities\n",
       "1 1  60         RL       65           8450   Reg      Lvl         AllPub   \n",
       "2 2  20         RL       80           9600   Reg      Lvl         AllPub   \n",
       "3 3  60         RL       68          11250   IR1      Lvl         AllPub   \n",
       "4 4  70         RL       60           9550   IR1      Lvl         AllPub   \n",
       "  LotConfig LandSlope ⋯ PoolArea PoolQC Fence MiscFeature MiscVal MoSold YrSold\n",
       "1 Inside    Gtl       ⋯ 0                                 0       2      2008  \n",
       "2 FR2       Gtl       ⋯ 0                                 0       5      2007  \n",
       "3 Inside    Gtl       ⋯ 0                                 0       9      2008  \n",
       "4 Corner    Gtl       ⋯ 0                                 0       2      2006  \n",
       "  SaleType SaleCondition SalePrice\n",
       "1 WD       Normal        208500   \n",
       "2 WD       Normal        181500   \n",
       "3 WD       Normal        223500   \n",
       "4 WD       Abnorml       140000   "
      ]
     },
     "metadata": {},
     "output_type": "display_data"
    }
   ],
   "source": [
    "housing_df = merge(zoning_df, listing_df, by=\"Id\")\n",
    "housing_df = merge(housing_df, sale_df, by=\"Id\")\n",
    "head(housing_df, 4)"
   ]
  },
  {
   "cell_type": "markdown",
   "metadata": {},
   "source": [
    "#### Size of the dataset\n",
    "\n",
    "##### (a) Size of the dataset before data cleaning (rows x cols)"
   ]
  },
  {
   "cell_type": "code",
   "execution_count": 4,
   "metadata": {},
   "outputs": [
    {
     "data": {
      "text/html": [
       "<ol class=list-inline>\n",
       "\t<li>1460</li>\n",
       "\t<li>81</li>\n",
       "</ol>\n"
      ],
      "text/latex": [
       "\\begin{enumerate*}\n",
       "\\item 1460\n",
       "\\item 81\n",
       "\\end{enumerate*}\n"
      ],
      "text/markdown": [
       "1. 1460\n",
       "2. 81\n",
       "\n",
       "\n"
      ],
      "text/plain": [
       "[1] 1460   81"
      ]
     },
     "metadata": {},
     "output_type": "display_data"
    }
   ],
   "source": [
    "dim(housing_df)"
   ]
  },
  {
   "cell_type": "markdown",
   "metadata": {},
   "source": [
    "##### (b) Size of the data when loaded in memory is 608 KB"
   ]
  },
  {
   "cell_type": "code",
   "execution_count": 19,
   "metadata": {},
   "outputs": [
    {
     "data": {
      "text/plain": [
       "608584 bytes"
      ]
     },
     "metadata": {},
     "output_type": "display_data"
    }
   ],
   "source": [
    "object.size(housing_df)"
   ]
  },
  {
   "cell_type": "markdown",
   "metadata": {},
   "source": [
    "#### Data Cleaning"
   ]
  },
  {
   "cell_type": "markdown",
   "metadata": {},
   "source": [
    "##### (a) Since Id is an Observation identifier, let's make it the rowname instead of the data"
   ]
  },
  {
   "cell_type": "code",
   "execution_count": 5,
   "metadata": {},
   "outputs": [
    {
     "data": {
      "text/html": [
       "<table>\n",
       "<thead><tr><th scope=col>MSSubClass</th><th scope=col>MSZoning</th><th scope=col>LotFrontage</th><th scope=col>LotArea</th><th scope=col>LotShape</th><th scope=col>LandContour</th><th scope=col>Utilities</th><th scope=col>LotConfig</th><th scope=col>LandSlope</th><th scope=col>Neighborhood</th><th scope=col>⋯</th><th scope=col>PoolArea</th><th scope=col>PoolQC</th><th scope=col>Fence</th><th scope=col>MiscFeature</th><th scope=col>MiscVal</th><th scope=col>MoSold</th><th scope=col>YrSold</th><th scope=col>SaleType</th><th scope=col>SaleCondition</th><th scope=col>SalePrice</th></tr></thead>\n",
       "<tbody>\n",
       "\t<tr><td>60     </td><td>RL     </td><td>65     </td><td> 8450  </td><td>Reg    </td><td>Lvl    </td><td>AllPub </td><td>Inside </td><td>Gtl    </td><td>CollgCr</td><td>⋯      </td><td>0      </td><td>       </td><td>       </td><td>       </td><td>0      </td><td>2      </td><td>2008   </td><td>WD     </td><td>Normal </td><td>208500 </td></tr>\n",
       "\t<tr><td>20     </td><td>RL     </td><td>80     </td><td> 9600  </td><td>Reg    </td><td>Lvl    </td><td>AllPub </td><td>FR2    </td><td>Gtl    </td><td>Veenker</td><td>⋯      </td><td>0      </td><td>       </td><td>       </td><td>       </td><td>0      </td><td>5      </td><td>2007   </td><td>WD     </td><td>Normal </td><td>181500 </td></tr>\n",
       "\t<tr><td>60     </td><td>RL     </td><td>68     </td><td>11250  </td><td>IR1    </td><td>Lvl    </td><td>AllPub </td><td>Inside </td><td>Gtl    </td><td>CollgCr</td><td>⋯      </td><td>0      </td><td>       </td><td>       </td><td>       </td><td>0      </td><td>9      </td><td>2008   </td><td>WD     </td><td>Normal </td><td>223500 </td></tr>\n",
       "\t<tr><td>70     </td><td>RL     </td><td>60     </td><td> 9550  </td><td>IR1    </td><td>Lvl    </td><td>AllPub </td><td>Corner </td><td>Gtl    </td><td>Crawfor</td><td>⋯      </td><td>0      </td><td>       </td><td>       </td><td>       </td><td>0      </td><td>2      </td><td>2006   </td><td>WD     </td><td>Abnorml</td><td>140000 </td></tr>\n",
       "</tbody>\n",
       "</table>\n"
      ],
      "text/latex": [
       "\\begin{tabular}{r|llllllllllllllllllllllllllllllllllllllllllllllllllllllllllllllllllllllllllllllll}\n",
       " MSSubClass & MSZoning & LotFrontage & LotArea & LotShape & LandContour & Utilities & LotConfig & LandSlope & Neighborhood & ⋯ & PoolArea & PoolQC & Fence & MiscFeature & MiscVal & MoSold & YrSold & SaleType & SaleCondition & SalePrice\\\\\n",
       "\\hline\n",
       "\t 60      & RL      & 65      &  8450   & Reg     & Lvl     & AllPub  & Inside  & Gtl     & CollgCr & ⋯       & 0       &         &         &         & 0       & 2       & 2008    & WD      & Normal  & 208500 \\\\\n",
       "\t 20      & RL      & 80      &  9600   & Reg     & Lvl     & AllPub  & FR2     & Gtl     & Veenker & ⋯       & 0       &         &         &         & 0       & 5       & 2007    & WD      & Normal  & 181500 \\\\\n",
       "\t 60      & RL      & 68      & 11250   & IR1     & Lvl     & AllPub  & Inside  & Gtl     & CollgCr & ⋯       & 0       &         &         &         & 0       & 9       & 2008    & WD      & Normal  & 223500 \\\\\n",
       "\t 70      & RL      & 60      &  9550   & IR1     & Lvl     & AllPub  & Corner  & Gtl     & Crawfor & ⋯       & 0       &         &         &         & 0       & 2       & 2006    & WD      & Abnorml & 140000 \\\\\n",
       "\\end{tabular}\n"
      ],
      "text/markdown": [
       "\n",
       "MSSubClass | MSZoning | LotFrontage | LotArea | LotShape | LandContour | Utilities | LotConfig | LandSlope | Neighborhood | ⋯ | PoolArea | PoolQC | Fence | MiscFeature | MiscVal | MoSold | YrSold | SaleType | SaleCondition | SalePrice | \n",
       "|---|---|---|---|\n",
       "| 60      | RL      | 65      |  8450   | Reg     | Lvl     | AllPub  | Inside  | Gtl     | CollgCr | ⋯       | 0       |         |         |         | 0       | 2       | 2008    | WD      | Normal  | 208500  | \n",
       "| 20      | RL      | 80      |  9600   | Reg     | Lvl     | AllPub  | FR2     | Gtl     | Veenker | ⋯       | 0       |         |         |         | 0       | 5       | 2007    | WD      | Normal  | 181500  | \n",
       "| 60      | RL      | 68      | 11250   | IR1     | Lvl     | AllPub  | Inside  | Gtl     | CollgCr | ⋯       | 0       |         |         |         | 0       | 9       | 2008    | WD      | Normal  | 223500  | \n",
       "| 70      | RL      | 60      |  9550   | IR1     | Lvl     | AllPub  | Corner  | Gtl     | Crawfor | ⋯       | 0       |         |         |         | 0       | 2       | 2006    | WD      | Abnorml | 140000  | \n",
       "\n",
       "\n"
      ],
      "text/plain": [
       "  MSSubClass MSZoning LotFrontage LotArea LotShape LandContour Utilities\n",
       "1 60         RL       65           8450   Reg      Lvl         AllPub   \n",
       "2 20         RL       80           9600   Reg      Lvl         AllPub   \n",
       "3 60         RL       68          11250   IR1      Lvl         AllPub   \n",
       "4 70         RL       60           9550   IR1      Lvl         AllPub   \n",
       "  LotConfig LandSlope Neighborhood ⋯ PoolArea PoolQC Fence MiscFeature MiscVal\n",
       "1 Inside    Gtl       CollgCr      ⋯ 0                                 0      \n",
       "2 FR2       Gtl       Veenker      ⋯ 0                                 0      \n",
       "3 Inside    Gtl       CollgCr      ⋯ 0                                 0      \n",
       "4 Corner    Gtl       Crawfor      ⋯ 0                                 0      \n",
       "  MoSold YrSold SaleType SaleCondition SalePrice\n",
       "1 2      2008   WD       Normal        208500   \n",
       "2 5      2007   WD       Normal        181500   \n",
       "3 9      2008   WD       Normal        223500   \n",
       "4 2      2006   WD       Abnorml       140000   "
      ]
     },
     "metadata": {},
     "output_type": "display_data"
    }
   ],
   "source": [
    "rownames(housing_df) <- housing_df$Id\n",
    "housing_df$Id <- NULL\n",
    "head(housing_df, 4)"
   ]
  },
  {
   "cell_type": "markdown",
   "metadata": {},
   "source": [
    "##### (b) Check all numerical features to see of we any is really a categorical features and needs conversion."
   ]
  },
  {
   "cell_type": "code",
   "execution_count": 31,
   "metadata": {},
   "outputs": [
    {
     "name": "stdout",
     "output_type": "stream",
     "text": [
      "'data.frame':\t1460 obs. of  37 variables:\n",
      " $ MSSubClass   : int  60 20 60 70 60 50 20 60 50 190 ...\n",
      " $ LotFrontage  : num  65 80 68 60 84 ...\n",
      " $ LotArea      : int  8450 9600 11250 9550 14260 14115 10084 10382 6120 7420 ...\n",
      " $ OverallQual  : int  7 6 7 7 8 5 8 7 7 5 ...\n",
      " $ OverallCond  : int  5 8 5 5 5 5 5 6 5 6 ...\n",
      " $ YearBuilt    : int  2003 1976 2001 1915 2000 1993 2004 1973 1931 1939 ...\n",
      " $ YearRemodAdd : int  2003 1976 2002 1970 2000 1995 2005 1973 1950 1950 ...\n",
      " $ MasVnrArea   : num  196 0 162 0 350 0 186 240 0 0 ...\n",
      " $ BsmtFinSF1   : int  706 978 486 216 655 732 1369 859 0 851 ...\n",
      " $ BsmtFinSF2   : int  0 0 0 0 0 0 0 32 0 0 ...\n",
      " $ BsmtUnfSF    : int  150 284 434 540 490 64 317 216 952 140 ...\n",
      " $ TotalBsmtSF  : int  856 1262 920 756 1145 796 1686 1107 952 991 ...\n",
      " $ FirstFlrSF   : int  856 1262 920 961 1145 796 1694 1107 1022 1077 ...\n",
      " $ SecondFlrSF  : int  854 0 866 756 1053 566 0 983 752 0 ...\n",
      " $ LowQualFinSF : int  0 0 0 0 0 0 0 0 0 0 ...\n",
      " $ GrLivArea    : int  1710 1262 1786 1717 2198 1362 1694 2090 1774 1077 ...\n",
      " $ BsmtFullBath : int  1 0 1 1 1 1 1 1 0 1 ...\n",
      " $ BsmtHalfBath : int  0 1 0 0 0 0 0 0 0 0 ...\n",
      " $ FullBath     : int  2 2 2 1 2 1 2 2 2 1 ...\n",
      " $ HalfBath     : int  1 0 1 0 1 1 0 1 0 0 ...\n",
      " $ BedroomAbvGr : int  3 3 3 3 4 1 3 3 2 2 ...\n",
      " $ KitchenAbvGr : int  1 1 1 1 1 1 1 1 2 2 ...\n",
      " $ TotRmsAbvGrd : int  8 6 6 7 9 5 7 7 8 5 ...\n",
      " $ Fireplaces   : int  0 1 1 1 1 0 1 2 2 2 ...\n",
      " $ GarageYrBlt  : num  2003 1976 2001 1998 2000 ...\n",
      " $ GarageCars   : int  2 2 2 3 3 2 2 2 2 1 ...\n",
      " $ GarageArea   : int  548 460 608 642 836 480 636 484 468 205 ...\n",
      " $ WoodDeckSF   : int  0 298 0 0 192 40 255 235 90 0 ...\n",
      " $ OpenPorchSF  : int  61 0 42 35 84 30 57 204 0 4 ...\n",
      " $ EnclosedPorch: int  0 0 0 272 0 0 0 228 205 0 ...\n",
      " $ ThreeSsnPorch: int  0 0 0 0 0 320 0 0 0 0 ...\n",
      " $ ScreenPorch  : int  0 0 0 0 0 0 0 0 0 0 ...\n",
      " $ PoolArea     : int  0 0 0 0 0 0 0 0 0 0 ...\n",
      " $ MiscVal      : int  0 0 0 0 0 700 0 350 0 0 ...\n",
      " $ MoSold       : int  2 5 9 2 12 10 8 11 4 1 ...\n",
      " $ YrSold       : int  2008 2007 2008 2006 2008 2009 2007 2009 2008 2008 ...\n",
      " $ SalePrice    : int  208500 181500 223500 140000 250000 143000 307000 200000 129900 118000 ...\n"
     ]
    }
   ],
   "source": [
    "str(Filter(is.numeric, housing_df))"
   ]
  },
  {
   "cell_type": "code",
   "execution_count": 32,
   "metadata": {},
   "outputs": [],
   "source": [
    "housing_df$MSSubClass <- as.factor(housing_df$MSSubClass)\n",
    "housing_df$OverallQual <- as.factor(housing_df$OverallQual)\n",
    "housing_df$OverallCond <- as.factor(housing_df$OverallCond)\n",
    "housing_df$BsmtFullBath <- as.factor(housing_df$BsmtFullBath)\n",
    "housing_df$BsmtHalfBath <- as.factor(housing_df$BsmtHalfBath)\n",
    "housing_df$FullBath <- as.factor(housing_df$FullBath)\n",
    "housing_df$HalfBath <- as.factor(housing_df$HalfBath)\n",
    "housing_df$BedroomAbvGr <- as.factor(housing_df$BedroomAbvGr)\n",
    "housing_df$KitchenAbvGr <- as.factor(housing_df$KitchenAbvGr)\n",
    "housing_df$TotRmsAbvGrd <- as.factor(housing_df$TotRmsAbvGrd)\n",
    "housing_df$Fireplaces <- as.factor(housing_df$Fireplaces)\n",
    "housing_df$GarageCars <- as.factor(housing_df$GarageCars)\n",
    "housing_df$MoSold <- as.factor(housing_df$MoSold)\n",
    "housing_df$HasPool <- housing_df$PoolArea != 0"
   ]
  },
  {
   "cell_type": "markdown",
   "metadata": {},
   "source": [
    "##### (c) Handle na/missing data\n",
    "\n",
    "###### Let's check for na values "
   ]
  },
  {
   "cell_type": "code",
   "execution_count": 6,
   "metadata": {},
   "outputs": [
    {
     "data": {
      "text/html": [
       "<dl class=dl-horizontal>\n",
       "\t<dt>LotFrontage</dt>\n",
       "\t\t<dd>259</dd>\n",
       "\t<dt>MasVnrArea</dt>\n",
       "\t\t<dd>8</dd>\n",
       "\t<dt>GarageYrBlt</dt>\n",
       "\t\t<dd>81</dd>\n",
       "</dl>\n"
      ],
      "text/latex": [
       "\\begin{description*}\n",
       "\\item[LotFrontage] 259\n",
       "\\item[MasVnrArea] 8\n",
       "\\item[GarageYrBlt] 81\n",
       "\\end{description*}\n"
      ],
      "text/markdown": [
       "LotFrontage\n",
       ":   259MasVnrArea\n",
       ":   8GarageYrBlt\n",
       ":   81\n",
       "\n"
      ],
      "text/plain": [
       "LotFrontage  MasVnrArea GarageYrBlt \n",
       "        259           8          81 "
      ]
     },
     "metadata": {},
     "output_type": "display_data"
    }
   ],
   "source": [
    "nan_sums = colSums(is.na(housing_df))\n",
    "nan_sums[nan_sums > 0]"
   ]
  },
  {
   "cell_type": "markdown",
   "metadata": {},
   "source": [
    "###### We have 3 features with na values. Let's impute na values with mean"
   ]
  },
  {
   "cell_type": "code",
   "execution_count": 7,
   "metadata": {},
   "outputs": [
    {
     "data": {
      "text/html": [],
      "text/latex": [],
      "text/markdown": [],
      "text/plain": [
       "named numeric(0)"
      ]
     },
     "metadata": {},
     "output_type": "display_data"
    }
   ],
   "source": [
    "# Find the mean\n",
    "mean_LotFrontage <- mean(housing_df$LotFrontage, na.rm=T)\n",
    "mean_MasVnrArea <- mean(housing_df$MasVnrArea, na.rm=T)\n",
    "mean_GarageYrBlt <- mean(housing_df$GarageYrBlt, na.rm=T)\n",
    "\n",
    "# impute\n",
    "housing_df$LotFrontage[is.na(housing_df$LotFrontage)] <- mean_LotFrontage\n",
    "housing_df$MasVnrArea[is.na(housing_df$MasVnrArea)] <- mean_MasVnrArea\n",
    "housing_df$GarageYrBlt[is.na(housing_df$GarageYrBlt)] <- mean_GarageYrBlt\n",
    "\n",
    "# check for na values to make sure all na values have been imputed\n",
    "nan_sums = colSums(is.na(housing_df))\n",
    "nan_sums[nan_sums > 0]"
   ]
  },
  {
   "cell_type": "markdown",
   "metadata": {},
   "source": [
    "##### Let's check for blank values"
   ]
  },
  {
   "cell_type": "code",
   "execution_count": 8,
   "metadata": {},
   "outputs": [],
   "source": [
    "source('../src/util.r')"
   ]
  },
  {
   "cell_type": "code",
   "execution_count": 9,
   "metadata": {},
   "outputs": [
    {
     "name": "stdout",
     "output_type": "stream",
     "text": [
      "[1] \"Alley 1369\"\n",
      "[1] \"MasVnrType 8\"\n",
      "[1] \"BsmtQual 37\"\n",
      "[1] \"BsmtCond 37\"\n",
      "[1] \"BsmtExposure 38\"\n",
      "[1] \"BsmtFinType1 37\"\n",
      "[1] \"BsmtFinType2 38\"\n",
      "[1] \"Electrical 1\"\n",
      "[1] \"FireplaceQu 690\"\n",
      "[1] \"GarageType 81\"\n",
      "[1] \"GarageFinish 81\"\n",
      "[1] \"GarageQual 81\"\n",
      "[1] \"GarageCond 81\"\n",
      "[1] \"PoolQC 1453\"\n",
      "[1] \"Fence 1179\"\n",
      "[1] \"MiscFeature 1406\"\n"
     ]
    }
   ],
   "source": [
    "colsums_is_blank(housing_df)"
   ]
  },
  {
   "cell_type": "markdown",
   "metadata": {},
   "source": [
    "##### For some categorical features we can read empty values as meaning \"without\", while for others it simply has no data. For the former we will replace blanks with \"without\" and for the latter, \"na\", so we can omit them."
   ]
  },
  {
   "cell_type": "code",
   "execution_count": 10,
   "metadata": {},
   "outputs": [],
   "source": [
    "empty_means_without <-c(\"Alley\",\"BsmtQual\",\"BsmtCond\",\"BsmtExposure\",\"BsmtFinType1\",\n",
    "                        \"BsmtFinType2\", \"FireplaceQu\",\"GarageType\",\"GarageFinish\",\n",
    "                        \"GarageQual\",\"GarageCond\",\"PoolQC\",\"Fence\",\"MiscFeature\")\n",
    "\n",
    "empty_means_NA <- c(\"MasVnrType\",\"Electrical\")"
   ]
  },
  {
   "cell_type": "code",
   "execution_count": 17,
   "metadata": {},
   "outputs": [],
   "source": [
    "for (feature in empty_means_without) {\n",
    "    housing_df[,feature] <- replace_empty_with_without(feature)\n",
    "}\n",
    "\n",
    "for (feature in empty_means_NA) {\n",
    "    housing_df[,feature] <- replace_empty_with_NA(feature)\n",
    "}"
   ]
  },
  {
   "cell_type": "code",
   "execution_count": 12,
   "metadata": {},
   "outputs": [],
   "source": [
    "housing_df <- na.omit(housing_df)"
   ]
  },
  {
   "cell_type": "markdown",
   "metadata": {},
   "source": [
    "##### After data cleaning, we now have 1460 observations and 80 columns ( 79 features + 1 target).\n",
    "Note that we have i less column because we removed Id, the Observation identifier."
   ]
  },
  {
   "cell_type": "code",
   "execution_count": null,
   "metadata": {},
   "outputs": [],
   "source": []
  },
  {
   "cell_type": "code",
   "execution_count": 13,
   "metadata": {},
   "outputs": [
    {
     "data": {
      "text/html": [
       "<ol class=list-inline>\n",
       "\t<li>1460</li>\n",
       "\t<li>80</li>\n",
       "</ol>\n"
      ],
      "text/latex": [
       "\\begin{enumerate*}\n",
       "\\item 1460\n",
       "\\item 80\n",
       "\\end{enumerate*}\n"
      ],
      "text/markdown": [
       "1. 1460\n",
       "2. 80\n",
       "\n",
       "\n"
      ],
      "text/plain": [
       "[1] 1460   80"
      ]
     },
     "metadata": {},
     "output_type": "display_data"
    }
   ],
   "source": [
    "dim(housing_df)"
   ]
  },
  {
   "cell_type": "markdown",
   "metadata": {},
   "source": [
    "#### Summaries"
   ]
  },
  {
   "cell_type": "code",
   "execution_count": 18,
   "metadata": {
    "scrolled": true
   },
   "outputs": [
    {
     "data": {
      "text/plain": [
       "   MSSubClass       MSZoning     LotFrontage        LotArea       LotShape \n",
       " Min.   : 20.0   C (all):  10   Min.   : 21.00   Min.   :  1300   IR1:484  \n",
       " 1st Qu.: 20.0   FV     :  65   1st Qu.: 60.00   1st Qu.:  7554   IR2: 41  \n",
       " Median : 50.0   RH     :  16   Median : 70.05   Median :  9478   IR3: 10  \n",
       " Mean   : 56.9   RL     :1151   Mean   : 70.05   Mean   : 10517   Reg:925  \n",
       " 3rd Qu.: 70.0   RM     : 218   3rd Qu.: 79.00   3rd Qu.: 11602            \n",
       " Max.   :190.0                  Max.   :313.00   Max.   :215245            \n",
       "                                                                           \n",
       " LandContour  Utilities      LotConfig    LandSlope   Neighborhood\n",
       " Bnk:  63    AllPub:1459   Corner : 263   Gtl:1382   NAmes  :225  \n",
       " HLS:  50    NoSeWa:   1   CulDSac:  94   Mod:  65   CollgCr:150  \n",
       " Low:  36                  FR2    :  47   Sev:  13   OldTown:113  \n",
       " Lvl:1311                  FR3    :   4              Edwards:100  \n",
       "                           Inside :1052              Somerst: 86  \n",
       "                                                     Gilbert: 79  \n",
       "                                                     (Other):707  \n",
       "   Condition1     Condition2     BldgType      HouseStyle   Street    \n",
       " Norm   :1260   Norm   :1445   1Fam  :1220   1Story :726   Grvl:   6  \n",
       " Feedr  :  81   Feedr  :   6   2fmCon:  31   2Story :445   Pave:1454  \n",
       " Artery :  48   Artery :   2   Duplex:  52   1.5Fin :154              \n",
       " RRAn   :  26   PosN   :   2   Twnhs :  43   SLvl   : 65              \n",
       " PosN   :  19   RRNn   :   2   TwnhsE: 114   SFoyer : 37              \n",
       " RRAe   :  11   PosA   :   1                 1.5Unf : 14              \n",
       " (Other):  15   (Other):   2                 (Other): 19              \n",
       "    Alley            OverallQual      OverallCond      YearBuilt   \n",
       " Length:1460        Min.   : 1.000   Min.   :1.000   Min.   :1872  \n",
       " Class :character   1st Qu.: 5.000   1st Qu.:5.000   1st Qu.:1954  \n",
       " Mode  :character   Median : 6.000   Median :5.000   Median :1973  \n",
       "                    Mean   : 6.099   Mean   :5.575   Mean   :1971  \n",
       "                    3rd Qu.: 7.000   3rd Qu.:6.000   3rd Qu.:2000  \n",
       "                    Max.   :10.000   Max.   :9.000   Max.   :2010  \n",
       "                                                                   \n",
       "  YearRemodAdd    RoofStyle       RoofMatl     Exterior1st   Exterior2nd \n",
       " Min.   :1950   Flat   :  13   CompShg:1434   VinylSd:515   VinylSd:504  \n",
       " 1st Qu.:1967   Gable  :1141   Tar&Grv:  11   HdBoard:222   MetalSd:214  \n",
       " Median :1994   Gambrel:  11   WdShngl:   6   MetalSd:220   HdBoard:207  \n",
       " Mean   :1985   Hip    : 286   WdShake:   5   Wd Sdng:206   Wd Sdng:197  \n",
       " 3rd Qu.:2004   Mansard:   7   ClyTile:   1   Plywood:108   Plywood:142  \n",
       " Max.   :2010   Shed   :   2   Membran:   1   CemntBd: 61   CmentBd: 60  \n",
       "                               (Other):   2   (Other):128   (Other):136  \n",
       "  MasVnrType          MasVnrArea     ExterQual ExterCond  Foundation \n",
       " Length:1460        Min.   :   0.0   Ex: 52    Ex:   3   BrkTil:146  \n",
       " Class :character   1st Qu.:   0.0   Fa: 14    Fa:  28   CBlock:634  \n",
       " Mode  :character   Median :   0.0   Gd:488    Gd: 146   PConc :647  \n",
       "                    Mean   : 103.7   TA:906    Po:   1   Slab  : 24  \n",
       "                    3rd Qu.: 164.2             TA:1282   Stone :  6  \n",
       "                    Max.   :1600.0                       Wood  :  3  \n",
       "                                                                     \n",
       "   BsmtQual           BsmtCond         BsmtExposure       BsmtFinType1      \n",
       " Length:1460        Length:1460        Length:1460        Length:1460       \n",
       " Class :character   Class :character   Class :character   Class :character  \n",
       " Mode  :character   Mode  :character   Mode  :character   Mode  :character  \n",
       "                                                                            \n",
       "                                                                            \n",
       "                                                                            \n",
       "                                                                            \n",
       "   BsmtFinSF1     BsmtFinType2         BsmtFinSF2        BsmtUnfSF     \n",
       " Min.   :   0.0   Length:1460        Min.   :   0.00   Min.   :   0.0  \n",
       " 1st Qu.:   0.0   Class :character   1st Qu.:   0.00   1st Qu.: 223.0  \n",
       " Median : 383.5   Mode  :character   Median :   0.00   Median : 477.5  \n",
       " Mean   : 443.6                      Mean   :  46.55   Mean   : 567.2  \n",
       " 3rd Qu.: 712.2                      3rd Qu.:   0.00   3rd Qu.: 808.0  \n",
       " Max.   :5644.0                      Max.   :1474.00   Max.   :2336.0  \n",
       "                                                                       \n",
       "  TotalBsmtSF      Heating     HeatingQC CentralAir  Electrical       \n",
       " Min.   :   0.0   Floor:   1   Ex:741    N:  95     Length:1460       \n",
       " 1st Qu.: 795.8   GasA :1428   Fa: 49    Y:1365     Class :character  \n",
       " Median : 991.5   GasW :  18   Gd:241               Mode  :character  \n",
       " Mean   :1057.4   Grav :   7   Po:  1                                 \n",
       " 3rd Qu.:1298.2   OthW :   2   TA:428                                 \n",
       " Max.   :6110.0   Wall :   4                                          \n",
       "                                                                      \n",
       "   FirstFlrSF    SecondFlrSF    LowQualFinSF       GrLivArea   \n",
       " Min.   : 334   Min.   :   0   Min.   :  0.000   Min.   : 334  \n",
       " 1st Qu.: 882   1st Qu.:   0   1st Qu.:  0.000   1st Qu.:1130  \n",
       " Median :1087   Median :   0   Median :  0.000   Median :1464  \n",
       " Mean   :1163   Mean   : 347   Mean   :  5.845   Mean   :1515  \n",
       " 3rd Qu.:1391   3rd Qu.: 728   3rd Qu.:  0.000   3rd Qu.:1777  \n",
       " Max.   :4692   Max.   :2065   Max.   :572.000   Max.   :5642  \n",
       "                                                               \n",
       "  BsmtFullBath     BsmtHalfBath        FullBath        HalfBath     \n",
       " Min.   :0.0000   Min.   :0.00000   Min.   :0.000   Min.   :0.0000  \n",
       " 1st Qu.:0.0000   1st Qu.:0.00000   1st Qu.:1.000   1st Qu.:0.0000  \n",
       " Median :0.0000   Median :0.00000   Median :2.000   Median :0.0000  \n",
       " Mean   :0.4253   Mean   :0.05753   Mean   :1.565   Mean   :0.3829  \n",
       " 3rd Qu.:1.0000   3rd Qu.:0.00000   3rd Qu.:2.000   3rd Qu.:1.0000  \n",
       " Max.   :3.0000   Max.   :2.00000   Max.   :3.000   Max.   :2.0000  \n",
       "                                                                    \n",
       "  BedroomAbvGr    KitchenAbvGr   KitchenQual  TotRmsAbvGrd    Functional \n",
       " Min.   :0.000   Min.   :0.000   Ex:100      Min.   : 2.000   Maj1:  14  \n",
       " 1st Qu.:2.000   1st Qu.:1.000   Fa: 39      1st Qu.: 5.000   Maj2:   5  \n",
       " Median :3.000   Median :1.000   Gd:586      Median : 6.000   Min1:  31  \n",
       " Mean   :2.866   Mean   :1.047   TA:735      Mean   : 6.518   Min2:  34  \n",
       " 3rd Qu.:3.000   3rd Qu.:1.000               3rd Qu.: 7.000   Mod :  15  \n",
       " Max.   :8.000   Max.   :3.000               Max.   :14.000   Sev :   1  \n",
       "                                                              Typ :1360  \n",
       "   Fireplaces    FireplaceQu         GarageType         GarageYrBlt  \n",
       " Min.   :0.000   Length:1460        Length:1460        Min.   :1900  \n",
       " 1st Qu.:0.000   Class :character   Class :character   1st Qu.:1962  \n",
       " Median :1.000   Mode  :character   Mode  :character   Median :1979  \n",
       " Mean   :0.613                                         Mean   :1979  \n",
       " 3rd Qu.:1.000                                         3rd Qu.:2001  \n",
       " Max.   :3.000                                         Max.   :2010  \n",
       "                                                                     \n",
       " GarageFinish         GarageCars      GarageArea      GarageQual       \n",
       " Length:1460        Min.   :0.000   Min.   :   0.0   Length:1460       \n",
       " Class :character   1st Qu.:1.000   1st Qu.: 334.5   Class :character  \n",
       " Mode  :character   Median :2.000   Median : 480.0   Mode  :character  \n",
       "                    Mean   :1.767   Mean   : 473.0                     \n",
       "                    3rd Qu.:2.000   3rd Qu.: 576.0                     \n",
       "                    Max.   :4.000   Max.   :1418.0                     \n",
       "                                                                       \n",
       "  GarageCond        PavedDrive   WoodDeckSF      OpenPorchSF    \n",
       " Length:1460        N:  90     Min.   :  0.00   Min.   :  0.00  \n",
       " Class :character   P:  30     1st Qu.:  0.00   1st Qu.:  0.00  \n",
       " Mode  :character   Y:1340     Median :  0.00   Median : 25.00  \n",
       "                               Mean   : 94.24   Mean   : 46.66  \n",
       "                               3rd Qu.:168.00   3rd Qu.: 68.00  \n",
       "                               Max.   :857.00   Max.   :547.00  \n",
       "                                                                \n",
       " EnclosedPorch    ThreeSsnPorch     ScreenPorch        PoolArea      \n",
       " Min.   :  0.00   Min.   :  0.00   Min.   :  0.00   Min.   :  0.000  \n",
       " 1st Qu.:  0.00   1st Qu.:  0.00   1st Qu.:  0.00   1st Qu.:  0.000  \n",
       " Median :  0.00   Median :  0.00   Median :  0.00   Median :  0.000  \n",
       " Mean   : 21.95   Mean   :  3.41   Mean   : 15.06   Mean   :  2.759  \n",
       " 3rd Qu.:  0.00   3rd Qu.:  0.00   3rd Qu.:  0.00   3rd Qu.:  0.000  \n",
       " Max.   :552.00   Max.   :508.00   Max.   :480.00   Max.   :738.000  \n",
       "                                                                     \n",
       "    PoolQC             Fence           MiscFeature           MiscVal        \n",
       " Length:1460        Length:1460        Length:1460        Min.   :    0.00  \n",
       " Class :character   Class :character   Class :character   1st Qu.:    0.00  \n",
       " Mode  :character   Mode  :character   Mode  :character   Median :    0.00  \n",
       "                                                          Mean   :   43.49  \n",
       "                                                          3rd Qu.:    0.00  \n",
       "                                                          Max.   :15500.00  \n",
       "                                                                            \n",
       "     MoSold           YrSold        SaleType    SaleCondition    SalePrice     \n",
       " Min.   : 1.000   Min.   :2006   WD     :1267   Abnorml: 101   Min.   : 34900  \n",
       " 1st Qu.: 5.000   1st Qu.:2007   New    : 122   AdjLand:   4   1st Qu.:129975  \n",
       " Median : 6.000   Median :2008   COD    :  43   Alloca :  12   Median :163000  \n",
       " Mean   : 6.322   Mean   :2008   ConLD  :   9   Family :  20   Mean   :180921  \n",
       " 3rd Qu.: 8.000   3rd Qu.:2009   ConLI  :   5   Normal :1198   3rd Qu.:214000  \n",
       " Max.   :12.000   Max.   :2010   ConLw  :   5   Partial: 125   Max.   :755000  \n",
       "                                 (Other):   9                                  "
      ]
     },
     "metadata": {},
     "output_type": "display_data"
    }
   ],
   "source": [
    "summary(housing_df)"
   ]
  },
  {
   "cell_type": "markdown",
   "metadata": {},
   "source": [
    "#### Distribution of the target, SalePrice"
   ]
  },
  {
   "cell_type": "code",
   "execution_count": 24,
   "metadata": {},
   "outputs": [],
   "source": [
    "library(ggplot2)\n",
    "library(repr)"
   ]
  },
  {
   "cell_type": "code",
   "execution_count": 30,
   "metadata": {},
   "outputs": [
    {
     "data": {
      "image/png": "[encoded data removed]",
      "text/plain": [
       "Plot with title “Histogram of SalePrice (target)”"
      ]
     },
     "metadata": {},
     "output_type": "display_data"
    }
   ],
   "source": [
    "options(repr.plot.width=5, repr.plot.height=4)\n",
    "hist(housing_df$SalePrice/1000, freq = FALSE, main=\"Histogram of SalePrice (target)\")"
   ]
  },
  {
   "cell_type": "markdown",
   "metadata": {},
   "source": [
    "##### From the Distribution of the SalePrice above, it seems that most houses in Ames, Iowa sold between 50K-400K. It seems to be skewed above 400k (400K-800K)"
   ]
  },
  {
   "cell_type": "markdown",
   "metadata": {},
   "source": [
    "### Solution"
   ]
  },
  {
   "cell_type": "markdown",
   "metadata": {},
   "source": [
    "### Benchmark Model\n",
    "\n",
    "Let's use the average Sale Price as our naive benchmark."
   ]
  },
  {
   "cell_type": "markdown",
   "metadata": {},
   "source": [
    "### Performance Metrics"
   ]
  },
  {
   "cell_type": "code",
   "execution_count": null,
   "metadata": {},
   "outputs": [],
   "source": []
  }
 ],
 "metadata": {
  "kernelspec": {
   "display_name": "R",
   "language": "R",
   "name": "ir"
  },
  "language_info": {
   "codemirror_mode": "r",
   "file_extension": ".r",
   "mimetype": "text/x-r-source",
   "name": "R",
   "pygments_lexer": "r",
   "version": "3.4.1"
  }
 },
 "nbformat": 4,
 "nbformat_minor": 2
}
